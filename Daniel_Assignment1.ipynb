{
  "nbformat": 4,
  "nbformat_minor": 0,
  "metadata": {
    "colab": {
      "name": "Daniel_Assignment1.ipynb",
      "provenance": [],
      "collapsed_sections": [],
      "include_colab_link": true
    },
    "kernelspec": {
      "name": "python3",
      "display_name": "Python 3"
    },
    "language_info": {
      "name": "python"
    },
    "gpuClass": "standard",
    "accelerator": "GPU"
  },
  "cells": [
    {
      "cell_type": "markdown",
      "metadata": {
        "id": "view-in-github",
        "colab_type": "text"
      },
      "source": [
        "<a href=\"https://colab.research.google.com/github/IuliaDuta/ASD.github.io/blob/master/Daniel_Assignment1.ipynb\" target=\"_parent\"><img src=\"https://colab.research.google.com/assets/colab-badge.svg\" alt=\"Open In Colab\"/></a>"
      ]
    },
    {
      "cell_type": "markdown",
      "source": [
        "#Daniel McFadyen Machine Learning Assignment 1#"
      ],
      "metadata": {
        "id": "A3px15dljI6b"
      }
    },
    {
      "cell_type": "markdown",
      "source": [
        "We begin by doing the boring but necessary job of importing everything we need to complete the assignment. "
      ],
      "metadata": {
        "id": "Qok2v1UugbLD"
      }
    },
    {
      "cell_type": "code",
      "execution_count": 1,
      "metadata": {
        "id": "Zg5g-plZgG3B"
      },
      "outputs": [],
      "source": [
        "import pandas as pd\n",
        "from sklearn.model_selection import train_test_split\n",
        "from torch.utils.data import Dataset, DataLoader\n",
        "import torch.nn as nn\n",
        "from typing import Iterator, List, Callable, Tuple\n",
        "import torch\n",
        "from tqdm import tqdm\n",
        "import torch.optim as optim\n",
        "import matplotlib.pyplot as plt\n",
        "import numpy as np"
      ]
    },
    {
      "cell_type": "markdown",
      "source": [
        "**Importing the data**\n",
        "\n",
        "We were instructed to import the data in some fancy way, but the way I am doing it works, if I can be bothered I will do it correctly."
      ],
      "metadata": {
        "id": "BhUxNTcrgnll"
      }
    },
    {
      "cell_type": "code",
      "source": [
        "from google.colab import files\n",
        "upload = files.upload()"
      ],
      "metadata": {
        "colab": {
          "resources": {
            "http://localhost:8080/nbextensions/google.colab/files.js": {
              "data": "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",
              "ok": true,
              "headers": [
                [
                  "content-type",
                  "application/javascript"
                ]
              ],
              "status": 200,
              "status_text": ""
            }
          },
          "base_uri": "https://localhost:8080/",
          "height": 74
        },
        "id": "x8uiuEqQg47d",
        "outputId": "f8532cf2-1103-4ebb-a5ab-e41ee5762860"
      },
      "execution_count": 2,
      "outputs": [
        {
          "output_type": "display_data",
          "data": {
            "text/plain": [
              "<IPython.core.display.HTML object>"
            ],
            "text/html": [
              "\n",
              "     <input type=\"file\" id=\"files-168b4882-8d40-4712-a2ef-7f1fdff22fca\" name=\"files[]\" multiple disabled\n",
              "        style=\"border:none\" />\n",
              "     <output id=\"result-168b4882-8d40-4712-a2ef-7f1fdff22fca\">\n",
              "      Upload widget is only available when the cell has been executed in the\n",
              "      current browser session. Please rerun this cell to enable.\n",
              "      </output>\n",
              "      <script src=\"/nbextensions/google.colab/files.js\"></script> "
            ]
          },
          "metadata": {}
        },
        {
          "output_type": "stream",
          "name": "stdout",
          "text": [
            "Saving pmi-data.csv to pmi-data.csv\n"
          ]
        }
      ]
    },
    {
      "cell_type": "code",
      "source": [
        "data = pd.read_csv(\"pmi-data.csv\", index_col=0) #dropping a pointless column at the start"
      ],
      "metadata": {
        "id": "b5xMseSDg7Ei"
      },
      "execution_count": 4,
      "outputs": []
    },
    {
      "cell_type": "code",
      "source": [
        "data"
      ],
      "metadata": {
        "colab": {
          "base_uri": "https://localhost:8080/",
          "height": 424
        },
        "id": "fuv6W6gphDrI",
        "outputId": "b6033549-5db3-4f32-f77f-daa4918a12a4"
      },
      "execution_count": 5,
      "outputs": [
        {
          "output_type": "execute_result",
          "data": {
            "text/plain": [
              "         id  gender   age  hypertension  heart_disease  ever_married  \\\n",
              "0      9046       2  67.0             0              1             1   \n",
              "1     51676       1  61.0             0              0             1   \n",
              "2     31112       2  80.0             0              1             1   \n",
              "3     60182       1  49.0             0              0             1   \n",
              "4      1665       1  79.0             1              0             1   \n",
              "...     ...     ...   ...           ...            ...           ...   \n",
              "5102  45010       1  57.0             0              0             1   \n",
              "5105  18234       1  80.0             1              0             1   \n",
              "5106  44873       1  81.0             0              0             1   \n",
              "5107  19723       1  35.0             0              0             1   \n",
              "5108  37544       2  51.0             0              0             1   \n",
              "\n",
              "      work_type  Residence_type  avg_glucose_level   bmi  smoking_status  \\\n",
              "0             4               0             228.69  36.6               1   \n",
              "1             3               1             202.21  29.1               2   \n",
              "2             4               1             105.92  32.5               2   \n",
              "3             4               0             171.23  34.4               0   \n",
              "4             3               1             174.12  24.0               2   \n",
              "...         ...             ...                ...   ...             ...   \n",
              "5102          4               1              77.93  21.7               2   \n",
              "5105          4               0              83.75  29.1               2   \n",
              "5106          3               0             125.20  40.0               2   \n",
              "5107          3               1              82.99  30.6               2   \n",
              "5108          4               1             166.29  25.6               1   \n",
              "\n",
              "      stroke  \n",
              "0          1  \n",
              "1          1  \n",
              "2          1  \n",
              "3          1  \n",
              "4          1  \n",
              "...      ...  \n",
              "5102       0  \n",
              "5105       0  \n",
              "5106       0  \n",
              "5107       0  \n",
              "5108       0  \n",
              "\n",
              "[3566 rows x 12 columns]"
            ],
            "text/html": [
              "\n",
              "  <div id=\"df-1b6d1c79-7f1f-4eed-acd8-989c226b749a\">\n",
              "    <div class=\"colab-df-container\">\n",
              "      <div>\n",
              "<style scoped>\n",
              "    .dataframe tbody tr th:only-of-type {\n",
              "        vertical-align: middle;\n",
              "    }\n",
              "\n",
              "    .dataframe tbody tr th {\n",
              "        vertical-align: top;\n",
              "    }\n",
              "\n",
              "    .dataframe thead th {\n",
              "        text-align: right;\n",
              "    }\n",
              "</style>\n",
              "<table border=\"1\" class=\"dataframe\">\n",
              "  <thead>\n",
              "    <tr style=\"text-align: right;\">\n",
              "      <th></th>\n",
              "      <th>id</th>\n",
              "      <th>gender</th>\n",
              "      <th>age</th>\n",
              "      <th>hypertension</th>\n",
              "      <th>heart_disease</th>\n",
              "      <th>ever_married</th>\n",
              "      <th>work_type</th>\n",
              "      <th>Residence_type</th>\n",
              "      <th>avg_glucose_level</th>\n",
              "      <th>bmi</th>\n",
              "      <th>smoking_status</th>\n",
              "      <th>stroke</th>\n",
              "    </tr>\n",
              "  </thead>\n",
              "  <tbody>\n",
              "    <tr>\n",
              "      <th>0</th>\n",
              "      <td>9046</td>\n",
              "      <td>2</td>\n",
              "      <td>67.0</td>\n",
              "      <td>0</td>\n",
              "      <td>1</td>\n",
              "      <td>1</td>\n",
              "      <td>4</td>\n",
              "      <td>0</td>\n",
              "      <td>228.69</td>\n",
              "      <td>36.6</td>\n",
              "      <td>1</td>\n",
              "      <td>1</td>\n",
              "    </tr>\n",
              "    <tr>\n",
              "      <th>1</th>\n",
              "      <td>51676</td>\n",
              "      <td>1</td>\n",
              "      <td>61.0</td>\n",
              "      <td>0</td>\n",
              "      <td>0</td>\n",
              "      <td>1</td>\n",
              "      <td>3</td>\n",
              "      <td>1</td>\n",
              "      <td>202.21</td>\n",
              "      <td>29.1</td>\n",
              "      <td>2</td>\n",
              "      <td>1</td>\n",
              "    </tr>\n",
              "    <tr>\n",
              "      <th>2</th>\n",
              "      <td>31112</td>\n",
              "      <td>2</td>\n",
              "      <td>80.0</td>\n",
              "      <td>0</td>\n",
              "      <td>1</td>\n",
              "      <td>1</td>\n",
              "      <td>4</td>\n",
              "      <td>1</td>\n",
              "      <td>105.92</td>\n",
              "      <td>32.5</td>\n",
              "      <td>2</td>\n",
              "      <td>1</td>\n",
              "    </tr>\n",
              "    <tr>\n",
              "      <th>3</th>\n",
              "      <td>60182</td>\n",
              "      <td>1</td>\n",
              "      <td>49.0</td>\n",
              "      <td>0</td>\n",
              "      <td>0</td>\n",
              "      <td>1</td>\n",
              "      <td>4</td>\n",
              "      <td>0</td>\n",
              "      <td>171.23</td>\n",
              "      <td>34.4</td>\n",
              "      <td>0</td>\n",
              "      <td>1</td>\n",
              "    </tr>\n",
              "    <tr>\n",
              "      <th>4</th>\n",
              "      <td>1665</td>\n",
              "      <td>1</td>\n",
              "      <td>79.0</td>\n",
              "      <td>1</td>\n",
              "      <td>0</td>\n",
              "      <td>1</td>\n",
              "      <td>3</td>\n",
              "      <td>1</td>\n",
              "      <td>174.12</td>\n",
              "      <td>24.0</td>\n",
              "      <td>2</td>\n",
              "      <td>1</td>\n",
              "    </tr>\n",
              "    <tr>\n",
              "      <th>...</th>\n",
              "      <td>...</td>\n",
              "      <td>...</td>\n",
              "      <td>...</td>\n",
              "      <td>...</td>\n",
              "      <td>...</td>\n",
              "      <td>...</td>\n",
              "      <td>...</td>\n",
              "      <td>...</td>\n",
              "      <td>...</td>\n",
              "      <td>...</td>\n",
              "      <td>...</td>\n",
              "      <td>...</td>\n",
              "    </tr>\n",
              "    <tr>\n",
              "      <th>5102</th>\n",
              "      <td>45010</td>\n",
              "      <td>1</td>\n",
              "      <td>57.0</td>\n",
              "      <td>0</td>\n",
              "      <td>0</td>\n",
              "      <td>1</td>\n",
              "      <td>4</td>\n",
              "      <td>1</td>\n",
              "      <td>77.93</td>\n",
              "      <td>21.7</td>\n",
              "      <td>2</td>\n",
              "      <td>0</td>\n",
              "    </tr>\n",
              "    <tr>\n",
              "      <th>5105</th>\n",
              "      <td>18234</td>\n",
              "      <td>1</td>\n",
              "      <td>80.0</td>\n",
              "      <td>1</td>\n",
              "      <td>0</td>\n",
              "      <td>1</td>\n",
              "      <td>4</td>\n",
              "      <td>0</td>\n",
              "      <td>83.75</td>\n",
              "      <td>29.1</td>\n",
              "      <td>2</td>\n",
              "      <td>0</td>\n",
              "    </tr>\n",
              "    <tr>\n",
              "      <th>5106</th>\n",
              "      <td>44873</td>\n",
              "      <td>1</td>\n",
              "      <td>81.0</td>\n",
              "      <td>0</td>\n",
              "      <td>0</td>\n",
              "      <td>1</td>\n",
              "      <td>3</td>\n",
              "      <td>0</td>\n",
              "      <td>125.20</td>\n",
              "      <td>40.0</td>\n",
              "      <td>2</td>\n",
              "      <td>0</td>\n",
              "    </tr>\n",
              "    <tr>\n",
              "      <th>5107</th>\n",
              "      <td>19723</td>\n",
              "      <td>1</td>\n",
              "      <td>35.0</td>\n",
              "      <td>0</td>\n",
              "      <td>0</td>\n",
              "      <td>1</td>\n",
              "      <td>3</td>\n",
              "      <td>1</td>\n",
              "      <td>82.99</td>\n",
              "      <td>30.6</td>\n",
              "      <td>2</td>\n",
              "      <td>0</td>\n",
              "    </tr>\n",
              "    <tr>\n",
              "      <th>5108</th>\n",
              "      <td>37544</td>\n",
              "      <td>2</td>\n",
              "      <td>51.0</td>\n",
              "      <td>0</td>\n",
              "      <td>0</td>\n",
              "      <td>1</td>\n",
              "      <td>4</td>\n",
              "      <td>1</td>\n",
              "      <td>166.29</td>\n",
              "      <td>25.6</td>\n",
              "      <td>1</td>\n",
              "      <td>0</td>\n",
              "    </tr>\n",
              "  </tbody>\n",
              "</table>\n",
              "<p>3566 rows × 12 columns</p>\n",
              "</div>\n",
              "      <button class=\"colab-df-convert\" onclick=\"convertToInteractive('df-1b6d1c79-7f1f-4eed-acd8-989c226b749a')\"\n",
              "              title=\"Convert this dataframe to an interactive table.\"\n",
              "              style=\"display:none;\">\n",
              "        \n",
              "  <svg xmlns=\"http://www.w3.org/2000/svg\" height=\"24px\"viewBox=\"0 0 24 24\"\n",
              "       width=\"24px\">\n",
              "    <path d=\"M0 0h24v24H0V0z\" fill=\"none\"/>\n",
              "    <path d=\"M18.56 5.44l.94 2.06.94-2.06 2.06-.94-2.06-.94-.94-2.06-.94 2.06-2.06.94zm-11 1L8.5 8.5l.94-2.06 2.06-.94-2.06-.94L8.5 2.5l-.94 2.06-2.06.94zm10 10l.94 2.06.94-2.06 2.06-.94-2.06-.94-.94-2.06-.94 2.06-2.06.94z\"/><path d=\"M17.41 7.96l-1.37-1.37c-.4-.4-.92-.59-1.43-.59-.52 0-1.04.2-1.43.59L10.3 9.45l-7.72 7.72c-.78.78-.78 2.05 0 2.83L4 21.41c.39.39.9.59 1.41.59.51 0 1.02-.2 1.41-.59l7.78-7.78 2.81-2.81c.8-.78.8-2.07 0-2.86zM5.41 20L4 18.59l7.72-7.72 1.47 1.35L5.41 20z\"/>\n",
              "  </svg>\n",
              "      </button>\n",
              "      \n",
              "  <style>\n",
              "    .colab-df-container {\n",
              "      display:flex;\n",
              "      flex-wrap:wrap;\n",
              "      gap: 12px;\n",
              "    }\n",
              "\n",
              "    .colab-df-convert {\n",
              "      background-color: #E8F0FE;\n",
              "      border: none;\n",
              "      border-radius: 50%;\n",
              "      cursor: pointer;\n",
              "      display: none;\n",
              "      fill: #1967D2;\n",
              "      height: 32px;\n",
              "      padding: 0 0 0 0;\n",
              "      width: 32px;\n",
              "    }\n",
              "\n",
              "    .colab-df-convert:hover {\n",
              "      background-color: #E2EBFA;\n",
              "      box-shadow: 0px 1px 2px rgba(60, 64, 67, 0.3), 0px 1px 3px 1px rgba(60, 64, 67, 0.15);\n",
              "      fill: #174EA6;\n",
              "    }\n",
              "\n",
              "    [theme=dark] .colab-df-convert {\n",
              "      background-color: #3B4455;\n",
              "      fill: #D2E3FC;\n",
              "    }\n",
              "\n",
              "    [theme=dark] .colab-df-convert:hover {\n",
              "      background-color: #434B5C;\n",
              "      box-shadow: 0px 1px 3px 1px rgba(0, 0, 0, 0.15);\n",
              "      filter: drop-shadow(0px 1px 2px rgba(0, 0, 0, 0.3));\n",
              "      fill: #FFFFFF;\n",
              "    }\n",
              "  </style>\n",
              "\n",
              "      <script>\n",
              "        const buttonEl =\n",
              "          document.querySelector('#df-1b6d1c79-7f1f-4eed-acd8-989c226b749a button.colab-df-convert');\n",
              "        buttonEl.style.display =\n",
              "          google.colab.kernel.accessAllowed ? 'block' : 'none';\n",
              "\n",
              "        async function convertToInteractive(key) {\n",
              "          const element = document.querySelector('#df-1b6d1c79-7f1f-4eed-acd8-989c226b749a');\n",
              "          const dataTable =\n",
              "            await google.colab.kernel.invokeFunction('convertToInteractive',\n",
              "                                                     [key], {});\n",
              "          if (!dataTable) return;\n",
              "\n",
              "          const docLinkHtml = 'Like what you see? Visit the ' +\n",
              "            '<a target=\"_blank\" href=https://colab.research.google.com/notebooks/data_table.ipynb>data table notebook</a>'\n",
              "            + ' to learn more about interactive tables.';\n",
              "          element.innerHTML = '';\n",
              "          dataTable['output_type'] = 'display_data';\n",
              "          await google.colab.output.renderOutput(dataTable, element);\n",
              "          const docLink = document.createElement('div');\n",
              "          docLink.innerHTML = docLinkHtml;\n",
              "          element.appendChild(docLink);\n",
              "        }\n",
              "      </script>\n",
              "    </div>\n",
              "  </div>\n",
              "  "
            ]
          },
          "metadata": {},
          "execution_count": 5
        }
      ]
    },
    {
      "cell_type": "markdown",
      "source": [
        "Although we were told to leave the data untouched, it is clear that we need to remove the first column, namely __id__ column. "
      ],
      "metadata": {
        "id": "SpMrgOo1hzTg"
      }
    },
    {
      "cell_type": "code",
      "source": [
        "data=data.drop([\"id\"],axis=1)"
      ],
      "metadata": {
        "id": "m6XB0cRTi0aL"
      },
      "execution_count": 6,
      "outputs": []
    },
    {
      "cell_type": "markdown",
      "source": [
        "We now split our data into our features matrix $X$ and our labels $y$."
      ],
      "metadata": {
        "id": "D_g4ghZEjln9"
      }
    },
    {
      "cell_type": "code",
      "source": [
        "X = data.drop([\"stroke\"], axis=1)\n",
        "y = data['stroke']"
      ],
      "metadata": {
        "id": "1BUHtHNtjrOm"
      },
      "execution_count": 7,
      "outputs": []
    },
    {
      "cell_type": "markdown",
      "source": [
        "Now we split our data into data for training the model and data for validating the model. We have chosen to first shuffle the data, we don't know how the data was given to us. \n",
        "\n",
        "We choose to have 20% of our data for validation, this gives us both a large enough data set to train the model while gives us a large enough validation set to properly evaluate the model. \n",
        "\n",
        "_Throughout I have interchanged the use of the word validate and test, since we are not optimising our model, the name we give them doesn't matter, we are merely using it to evaluate our model and to see under/overfitting_."
      ],
      "metadata": {
        "id": "mMgpxsp0kBqB"
      }
    },
    {
      "cell_type": "code",
      "source": [
        "X_train, X_test, y_train, y_test = train_test_split(X, y, test_size=0.2, shuffle=True) #splitting data into test and train.\n",
        "\n",
        "## turning our data into numpy arrays\n",
        "X_train = X_train.to_numpy()\n",
        "X_test = X_test.to_numpy()\n",
        "y_train = y_train.to_numpy()\n",
        "y_test = y_test.to_numpy()\n"
      ],
      "metadata": {
        "id": "xOM0G91wj5El"
      },
      "execution_count": 8,
      "outputs": []
    },
    {
      "cell_type": "markdown",
      "source": [
        "Now we are going to create a __Dataset__ which displays the features and the associated label in the following format $$[X[i,:], y[i]]$$ for both the training and validations data.\n",
        "\n",
        "We then feed this through a __train_dataloader()__ which will split the validation and training dataset into batches.  "
      ],
      "metadata": {
        "id": "85ClJxuilfXd"
      }
    },
    {
      "cell_type": "code",
      "source": [
        "class StrokeDataset(Dataset): \n",
        "\n",
        "  ## A class which will return a dataset\n",
        "  def __init__(self, X, y): \n",
        "    self.X = X\n",
        "    self.y = y\n",
        "\n",
        "  def __getitem__(self, index):\n",
        "    \n",
        "    ##concatenting the labels and features as mentioned in previous text cell\n",
        "    label=self.y[index]\n",
        "    features = self.X[index,:]\n",
        "    sample = features, label\n",
        "    return sample\n",
        "\n",
        "  def __len__(self): \n",
        "    ##returns how many data points are in our dataset\n",
        "    return len(self.y)"
      ],
      "metadata": {
        "id": "BR4M9qqWmDqT"
      },
      "execution_count": 9,
      "outputs": []
    },
    {
      "cell_type": "code",
      "source": [
        "##Create an instance of our dataset for both test and train model\n",
        "train_dataset=StrokeDataset(X_train, y_train)\n",
        "test_dataset=StrokeDataset(X_test, y_test)"
      ],
      "metadata": {
        "id": "-VBhngm-mkWA"
      },
      "execution_count": 10,
      "outputs": []
    },
    {
      "cell_type": "code",
      "source": [
        "BATCH_SIZE=16\n",
        "##Creating batches of size BATCH_SIZE for both our training and test data\n",
        "train_dataloader = DataLoader(\n",
        "    dataset=train_dataset, \n",
        "    batch_size=BATCH_SIZE,\n",
        "    shuffle=True  #shuffle the batches between each epoch [iulia]: SHUFFLE DATA!!\n",
        ") \n",
        "\n",
        "validation_dataloader = DataLoader(\n",
        "    dataset=test_dataset, \n",
        "    batch_size=BATCH_SIZE\n",
        ")"
      ],
      "metadata": {
        "id": "YktvoSZAnG4M"
      },
      "execution_count": 11,
      "outputs": []
    },
    {
      "cell_type": "markdown",
      "source": [
        "###Creating a model### \n",
        "\n",
        "Now that we have manipulated our data appropriately, we are ready to create our model. We are going to use a neural network with 3 hidden layers which will output a scaler for each data point (this is to appease the loss function we will be using). Between each layer we will be using __relu__ between each layer."
      ],
      "metadata": {
        "id": "WCL12-h1nYgG"
      }
    },
    {
      "cell_type": "code",
      "source": [
        "class StrokeClassifier(nn.Module): \n",
        "\n",
        "    def __init__(self, \n",
        "                 hidden_size_1: int, \n",
        "                 hidden_size_2: int,\n",
        "                 hidden_size_3 :int,\n",
        "                 activation_fn: Callable):\n",
        "        super().__init__()\n",
        "        self.hidden_size_1 = hidden_size_1\n",
        "        self.hidden_size_2 = hidden_size_2\n",
        "        self.hidden_size_3 = hidden_size_3    \n",
        "        \n",
        "        self.layer_1 = nn.Linear(in_features = 10, out_features = self.hidden_size_1, bias=True)\n",
        "        self.layer_2 = nn.Linear(in_features = self.hidden_size_1, out_features = self.hidden_size_2, bias=True)\n",
        "        self.layer_3 = nn.Linear(in_features = self.hidden_size_2, out_features = self.hidden_size_3, bias=True)\n",
        "        self.output_layer = nn.Linear(in_features = self.hidden_size_3, out_features = 1, bias = True)    \n",
        "    \n",
        "        self.activation_fn = activation_fn    \n",
        "    \n",
        "    def forward(self, x):\n",
        "        # TODO: layer1 + activation\n",
        "        h1 = self.activation_fn(self.layer_1(x))\n",
        "        \n",
        "        # TODO: layer2 + activation\n",
        "        h2 = self.activation_fn(self.layer_2(h1))        \n",
        "        \n",
        "        h3= self.activation_fn(self.layer_3(h2))\n",
        "        \n",
        "        # TODO: output layer\n",
        "        out = self.output_layer(h3)        \n",
        "        \n",
        "        return out"
      ],
      "metadata": {
        "id": "mZxPrXYaodrJ"
      },
      "execution_count": 12,
      "outputs": []
    },
    {
      "cell_type": "markdown",
      "source": [
        "We will now define our loss function. We have been instructed to use __BCEWithLogitsLoss()__, which takes as input a vector with the same shape as the labels. Later we will use the __max_weight__ input of the loss function, we will calculate everything we need now."
      ],
      "metadata": {
        "id": "dyIXOokppVz2"
      }
    },
    {
      "cell_type": "code",
      "source": [
        "n, k=len(train_dataset), np.count_nonzero(y_train)\n",
        "weight=torch.ones([1])\n",
        "weight[0] = (n-k)/k #number of 0 labels divided by 1 labels eg: how many more 0's do we have than 1's?\n",
        "\n",
        "loss_crt = nn.BCEWithLogitsLoss()#pos_weight = weight)"
      ],
      "metadata": {
        "id": "ZMFMswruo41M"
      },
      "execution_count": 13,
      "outputs": []
    },
    {
      "cell_type": "markdown",
      "source": [
        "We now want a way to see how our model is doing on our test data, so we will now train and evaluate our model at each prediction."
      ],
      "metadata": {
        "id": "88Y__Y-Axpyx"
      }
    },
    {
      "cell_type": "code",
      "source": [
        "def train_epoch(model, train_dataloader, loss_crt, optimizer, device): \n",
        "  model.train() \n",
        "  epoch_loss = 0.0\n",
        "  num_batches = len(train_dataloader)\n",
        "  predictions = [] #where we will add the predictions\n",
        "  labels = [] #where we will store the true labels\n",
        "\n",
        "  for idx, batch in tqdm(enumerate(train_dataloader)): \n",
        "    batch_features, batch_labels = batch #extract features and labels from dataloader\n",
        "\n",
        "    batch_features = batch_features.to(device) #send our data to device\n",
        "    batch_labels = batch_labels.to(device).squeeze() #likewise and squeze to transform into vector of length 16 opposed to 16x1 matrix\n",
        "    \n",
        "\n",
        "    output = model(batch_features.float()).squeeze() #run our data through our model? yes\n",
        "    \n",
        "    output_probs = torch.sigmoid(output) #transform the output into range 0-1\n",
        "    batch_predictions = torch.round(output_probs) #if >0.5 then it predicts a score of 1 (stroke)\n",
        "\n",
        "    predictions += batch_predictions.tolist() #update the lists\n",
        "    labels += batch_labels.tolist()\n",
        "\n",
        "\n",
        "    loss= loss_crt(output.to(torch.float64), batch_labels.to(torch.float64)) #calculate error from out model\n",
        "    loss_scalar = loss.item() #turn the loss output into a scaler\n",
        "    loss.backward() #propogate backwards through loss function\n",
        "\n",
        "    optimizer.step() #optimise our parameters\n",
        "\n",
        "    model.zero_grad() #reset the gradients\n",
        "\n",
        "    epoch_loss += loss_scalar #add it to our loss for this epoch\n",
        "\n",
        "  train_epoch_loss = epoch_loss/num_batches #average loss over a batch in this epoch\n",
        "  return train_epoch_loss, predictions, labels\n",
        "\n",
        "\n",
        "def eval_epoch(model, validation_dataloader, loss_crt, device): \n",
        "\n",
        "  model.eval() \n",
        "  epoch_loss=0.0\n",
        "  num_batches = len(validation_dataloader)\n",
        "  predictions = []\n",
        "  labels = []\n",
        "  with torch.no_grad(): #we have no interest in computing gradients now\n",
        "    for idx, batch in tqdm(enumerate(validation_dataloader)): #enumerates over dataloader\n",
        "      batch_features, batch_labels = batch #as above\n",
        "\n",
        "      batch_features = batch_features.to(device) #as above\n",
        "      batch_labels = batch_labels.to(device).squeeze() #as above\n",
        "\n",
        "      output = model(batch_features.float()).squeeze() #as above\n",
        "      \n",
        "      \n",
        "      output_probs = torch.sigmoid(output) #as above\n",
        "      batch_predictions = torch.round(output_probs) #as above\n",
        "\n",
        "      predictions += batch_predictions.tolist() #as above\n",
        "      labels += batch_labels.tolist() #as above\n",
        "\n",
        "      loss= loss_crt(output.to(torch.float64), batch_labels.to(torch.float64)) #as above\n",
        "      loss_scalar = loss.item() #as above\n",
        "      epoch_loss+= loss_scalar#as above\n",
        "  val_epoch_loss = epoch_loss/num_batches#as above\n",
        "  return val_epoch_loss, predictions, labels"
      ],
      "metadata": {
        "id": "ESeXbmcfyfsS"
      },
      "execution_count": 14,
      "outputs": []
    },
    {
      "cell_type": "markdown",
      "source": [
        "Bcecause this is a classification problem (currently) we will seek to compute metrics such as accuracy and also to look at the confusion matrix. So we will import functions that will help us do that now. "
      ],
      "metadata": {
        "id": "OmzwlMJy1xep"
      }
    },
    {
      "cell_type": "code",
      "source": [
        "def compute_accuracy(predictions: List[int], labels:List[int]):\n",
        "    \n",
        "    correct_predictions = 0\n",
        "    n=len(predictions) #number of predictions made in total\n",
        "    for i in range (n): \n",
        "      if predictions[i]==labels[i]: \n",
        "        correct_predictions+=1 ##counting number of correct predictions\n",
        "\n",
        "    epoch_accuracy = correct_predictions/n #correct/total\n",
        "    return epoch_accuracy\n",
        "\n",
        "def compute_confusion_matrix(predictions: List[int], labels:List[int]):\n",
        "    \n",
        "    correct_no_stroke = 0\n",
        "    correct_stroke = 0\n",
        "    wrong_no_stroke = 0\n",
        "    wrong_stroke = 0\n",
        "\n",
        "    n=len(predictions) #number of predictions made\n",
        "    for i in range (n): \n",
        "      if predictions[i] == labels[i]: \n",
        "        if predictions[i]==1:  \n",
        "          correct_stroke+=1\n",
        "        else: \n",
        "          correct_no_stroke+=1\n",
        "      else: \n",
        "        if predictions[i]==1: \n",
        "          wrong_stroke+=1\n",
        "        else: \n",
        "          wrong_no_stroke+=1 \n",
        "      \n",
        "\n",
        "    return (correct_no_stroke, wrong_no_stroke, correct_stroke, wrong_stroke)"
      ],
      "metadata": {
        "id": "X-JO7Lr12RtI"
      },
      "execution_count": 15,
      "outputs": []
    },
    {
      "cell_type": "markdown",
      "source": [
        "Now we are ready to give our model some hyperparameters and look at the accuracy and loss plots."
      ],
      "metadata": {
        "id": "Ng7lqrIH24FT"
      }
    },
    {
      "cell_type": "code",
      "source": [
        "hyperparams = {\n",
        "    'lr': 0.001,\n",
        "    'num_epochs': 100,\n",
        "    'hidden_size_1': 64,\n",
        "    'hidden_size_2': 32,\n",
        "    'hidden_size_3':16,\n",
        "    'activation_fn': nn.ReLU(),\n",
        "} #setting up our hyperparameters which we will feed in to our model and at some point hopefully optimize!\n",
        "device = torch.device('cuda') \n",
        "model = StrokeClassifier(\n",
        "    hidden_size_1=hyperparams['hidden_size_1'],\n",
        "    hidden_size_2=hyperparams['hidden_size_2'],\n",
        "    hidden_size_3=hyperparams['hidden_size_3'],\n",
        "    activation_fn=hyperparams['activation_fn']\n",
        ")\n",
        "model.to(device) #move our model to gpu\n",
        "optimizer = torch.optim.Adam( ##We shall pick Adam as our optimiser as Iulia says it funny :()\n",
        "    params = model.parameters(), \n",
        "    lr = hyperparams['lr'])\n",
        "\n",
        "train_losses, val_losses = [], []\n",
        "train_accuracies, val_accuracies = [], []\n",
        "best_val_acc = 0.0 ##for early stopping criteria but were just trying to have fun...\n",
        "\n",
        "for epoch_idx in range(hyperparams['num_epochs']):\n",
        "    train_epoch_loss, train_predictions, train_labels = train_epoch(\n",
        "        model, \n",
        "        train_dataloader, \n",
        "        loss_crt, \n",
        "        optimizer,\n",
        "        device\n",
        "    )\n",
        "    val_epoch_loss, val_predictions, val_labels = eval_epoch(\n",
        "        model,\n",
        "        validation_dataloader,\n",
        "        loss_crt,\n",
        "        device\n",
        "    )\n",
        "    train_acc = compute_accuracy(train_predictions, train_labels)\n",
        "    val_acc = compute_accuracy(val_predictions, val_labels)\n",
        "    train_losses.append(train_epoch_loss)\n",
        "    val_losses.append(val_epoch_loss)\n",
        "    train_accuracies.append(train_acc)\n",
        "    val_accuracies.append(val_acc)\n",
        "\n",
        "    print(\"epoch %d, train loss=%f, train acc=%f, val loss=%f, val acc=%f\" % (\n",
        "        epoch_idx, \n",
        "        train_epoch_loss,\n",
        "        train_acc,\n",
        "        val_epoch_loss,\n",
        "        val_acc\n",
        "    ))\n",
        "\n",
        "    # early stopping\n",
        "    # if val_acc >= best_val_acc:\n",
        "    #     best_val_acc = val_acc\n",
        "    # else:\n",
        "    #     break\n"
      ],
      "metadata": {
        "colab": {
          "base_uri": "https://localhost:8080/"
        },
        "id": "OsvCecew2-Iq",
        "outputId": "7a4f5050-7e75-4eef-f0f2-c81c4167da82"
      },
      "execution_count": 16,
      "outputs": [
        {
          "output_type": "stream",
          "name": "stderr",
          "text": [
            "179it [00:03, 51.68it/s] \n",
            "45it [00:00, 1502.64it/s]\n"
          ]
        },
        {
          "output_type": "stream",
          "name": "stdout",
          "text": [
            "epoch 0, train loss=0.247719, train acc=0.941795, val loss=0.186893, val acc=0.949580\n"
          ]
        },
        {
          "output_type": "stream",
          "name": "stderr",
          "text": [
            "179it [00:00, 428.82it/s]\n",
            "45it [00:00, 1407.43it/s]\n"
          ]
        },
        {
          "output_type": "stream",
          "name": "stdout",
          "text": [
            "epoch 1, train loss=0.226733, train acc=0.938990, val loss=0.187165, val acc=0.949580\n"
          ]
        },
        {
          "output_type": "stream",
          "name": "stderr",
          "text": [
            "179it [00:00, 433.46it/s]\n",
            "45it [00:00, 1524.60it/s]\n"
          ]
        },
        {
          "output_type": "stream",
          "name": "stdout",
          "text": [
            "epoch 2, train loss=0.218424, train acc=0.939341, val loss=0.188321, val acc=0.949580\n"
          ]
        },
        {
          "output_type": "stream",
          "name": "stderr",
          "text": [
            "179it [00:00, 424.25it/s]\n",
            "45it [00:00, 1371.57it/s]\n"
          ]
        },
        {
          "output_type": "stream",
          "name": "stdout",
          "text": [
            "epoch 3, train loss=0.212273, train acc=0.941795, val loss=0.189332, val acc=0.949580\n"
          ]
        },
        {
          "output_type": "stream",
          "name": "stderr",
          "text": [
            "179it [00:00, 416.32it/s]\n",
            "45it [00:00, 1263.08it/s]\n"
          ]
        },
        {
          "output_type": "stream",
          "name": "stdout",
          "text": [
            "epoch 4, train loss=0.211932, train acc=0.939691, val loss=0.197735, val acc=0.949580\n"
          ]
        },
        {
          "output_type": "stream",
          "name": "stderr",
          "text": [
            "179it [00:00, 448.79it/s]\n",
            "45it [00:00, 1474.04it/s]\n"
          ]
        },
        {
          "output_type": "stream",
          "name": "stdout",
          "text": [
            "epoch 5, train loss=0.210048, train acc=0.942146, val loss=0.175725, val acc=0.949580\n"
          ]
        },
        {
          "output_type": "stream",
          "name": "stderr",
          "text": [
            "179it [00:00, 444.21it/s]\n",
            "45it [00:00, 1423.84it/s]\n"
          ]
        },
        {
          "output_type": "stream",
          "name": "stdout",
          "text": [
            "epoch 6, train loss=0.209737, train acc=0.940743, val loss=0.174918, val acc=0.949580\n"
          ]
        },
        {
          "output_type": "stream",
          "name": "stderr",
          "text": [
            "179it [00:00, 416.90it/s]\n",
            "45it [00:00, 1145.12it/s]\n"
          ]
        },
        {
          "output_type": "stream",
          "name": "stdout",
          "text": [
            "epoch 7, train loss=0.203639, train acc=0.941795, val loss=0.186396, val acc=0.949580\n"
          ]
        },
        {
          "output_type": "stream",
          "name": "stderr",
          "text": [
            "179it [00:00, 424.90it/s]\n",
            "45it [00:00, 1383.76it/s]\n"
          ]
        },
        {
          "output_type": "stream",
          "name": "stdout",
          "text": [
            "epoch 8, train loss=0.211769, train acc=0.941795, val loss=0.182249, val acc=0.949580\n"
          ]
        },
        {
          "output_type": "stream",
          "name": "stderr",
          "text": [
            "179it [00:00, 432.72it/s]\n",
            "45it [00:00, 1357.72it/s]\n"
          ]
        },
        {
          "output_type": "stream",
          "name": "stdout",
          "text": [
            "epoch 9, train loss=0.206180, train acc=0.941795, val loss=0.176568, val acc=0.949580\n"
          ]
        },
        {
          "output_type": "stream",
          "name": "stderr",
          "text": [
            "179it [00:00, 432.83it/s]\n",
            "45it [00:00, 1351.04it/s]\n"
          ]
        },
        {
          "output_type": "stream",
          "name": "stdout",
          "text": [
            "epoch 10, train loss=0.203757, train acc=0.941795, val loss=0.175170, val acc=0.949580\n"
          ]
        },
        {
          "output_type": "stream",
          "name": "stderr",
          "text": [
            "179it [00:00, 448.10it/s]\n",
            "45it [00:00, 1426.20it/s]\n"
          ]
        },
        {
          "output_type": "stream",
          "name": "stdout",
          "text": [
            "epoch 11, train loss=0.200310, train acc=0.941795, val loss=0.174025, val acc=0.949580\n"
          ]
        },
        {
          "output_type": "stream",
          "name": "stderr",
          "text": [
            "179it [00:00, 439.95it/s]\n",
            "45it [00:00, 1381.24it/s]\n"
          ]
        },
        {
          "output_type": "stream",
          "name": "stdout",
          "text": [
            "epoch 12, train loss=0.196907, train acc=0.941795, val loss=0.174918, val acc=0.949580\n"
          ]
        },
        {
          "output_type": "stream",
          "name": "stderr",
          "text": [
            "179it [00:00, 439.39it/s]\n",
            "45it [00:00, 1371.13it/s]\n"
          ]
        },
        {
          "output_type": "stream",
          "name": "stdout",
          "text": [
            "epoch 13, train loss=0.202742, train acc=0.941795, val loss=0.171927, val acc=0.949580\n"
          ]
        },
        {
          "output_type": "stream",
          "name": "stderr",
          "text": [
            "179it [00:00, 434.56it/s]\n",
            "45it [00:00, 1533.63it/s]\n"
          ]
        },
        {
          "output_type": "stream",
          "name": "stdout",
          "text": [
            "epoch 14, train loss=0.195943, train acc=0.941795, val loss=0.170367, val acc=0.949580\n"
          ]
        },
        {
          "output_type": "stream",
          "name": "stderr",
          "text": [
            "179it [00:00, 440.95it/s]\n",
            "45it [00:00, 1446.78it/s]\n"
          ]
        },
        {
          "output_type": "stream",
          "name": "stdout",
          "text": [
            "epoch 15, train loss=0.201293, train acc=0.941795, val loss=0.176217, val acc=0.949580\n"
          ]
        },
        {
          "output_type": "stream",
          "name": "stderr",
          "text": [
            "179it [00:00, 439.07it/s]\n",
            "45it [00:00, 1502.64it/s]\n"
          ]
        },
        {
          "output_type": "stream",
          "name": "stdout",
          "text": [
            "epoch 16, train loss=0.197827, train acc=0.941795, val loss=0.171847, val acc=0.949580\n"
          ]
        },
        {
          "output_type": "stream",
          "name": "stderr",
          "text": [
            "179it [00:00, 437.81it/s]\n",
            "45it [00:00, 1400.10it/s]\n"
          ]
        },
        {
          "output_type": "stream",
          "name": "stdout",
          "text": [
            "epoch 17, train loss=0.196068, train acc=0.941795, val loss=0.173976, val acc=0.949580\n"
          ]
        },
        {
          "output_type": "stream",
          "name": "stderr",
          "text": [
            "179it [00:00, 430.80it/s]\n",
            "45it [00:00, 1166.73it/s]\n"
          ]
        },
        {
          "output_type": "stream",
          "name": "stdout",
          "text": [
            "epoch 18, train loss=0.195718, train acc=0.941795, val loss=0.172186, val acc=0.949580\n"
          ]
        },
        {
          "output_type": "stream",
          "name": "stderr",
          "text": [
            "179it [00:00, 416.81it/s]\n",
            "45it [00:00, 1363.37it/s]\n"
          ]
        },
        {
          "output_type": "stream",
          "name": "stdout",
          "text": [
            "epoch 19, train loss=0.196474, train acc=0.941795, val loss=0.169397, val acc=0.949580\n"
          ]
        },
        {
          "output_type": "stream",
          "name": "stderr",
          "text": [
            "179it [00:00, 446.99it/s]\n",
            "45it [00:00, 1475.67it/s]\n"
          ]
        },
        {
          "output_type": "stream",
          "name": "stdout",
          "text": [
            "epoch 20, train loss=0.194558, train acc=0.941795, val loss=0.170634, val acc=0.949580\n"
          ]
        },
        {
          "output_type": "stream",
          "name": "stderr",
          "text": [
            "179it [00:00, 441.95it/s]\n",
            "45it [00:00, 1248.69it/s]\n"
          ]
        },
        {
          "output_type": "stream",
          "name": "stdout",
          "text": [
            "epoch 21, train loss=0.197847, train acc=0.941795, val loss=0.174847, val acc=0.949580\n"
          ]
        },
        {
          "output_type": "stream",
          "name": "stderr",
          "text": [
            "179it [00:00, 446.67it/s]\n",
            "45it [00:00, 1428.82it/s]\n"
          ]
        },
        {
          "output_type": "stream",
          "name": "stdout",
          "text": [
            "epoch 22, train loss=0.196162, train acc=0.941795, val loss=0.171654, val acc=0.949580\n"
          ]
        },
        {
          "output_type": "stream",
          "name": "stderr",
          "text": [
            "179it [00:00, 432.73it/s]\n",
            "45it [00:00, 1418.47it/s]\n"
          ]
        },
        {
          "output_type": "stream",
          "name": "stdout",
          "text": [
            "epoch 23, train loss=0.190607, train acc=0.941795, val loss=0.173682, val acc=0.949580\n"
          ]
        },
        {
          "output_type": "stream",
          "name": "stderr",
          "text": [
            "179it [00:00, 444.32it/s]\n",
            "45it [00:00, 1478.93it/s]\n"
          ]
        },
        {
          "output_type": "stream",
          "name": "stdout",
          "text": [
            "epoch 24, train loss=0.191678, train acc=0.941795, val loss=0.172904, val acc=0.949580\n"
          ]
        },
        {
          "output_type": "stream",
          "name": "stderr",
          "text": [
            "179it [00:00, 449.00it/s]\n",
            "45it [00:00, 1474.18it/s]\n"
          ]
        },
        {
          "output_type": "stream",
          "name": "stdout",
          "text": [
            "epoch 25, train loss=0.190390, train acc=0.941795, val loss=0.177484, val acc=0.949580\n"
          ]
        },
        {
          "output_type": "stream",
          "name": "stderr",
          "text": [
            "179it [00:00, 437.08it/s]\n",
            "45it [00:00, 1420.29it/s]\n"
          ]
        },
        {
          "output_type": "stream",
          "name": "stdout",
          "text": [
            "epoch 26, train loss=0.191675, train acc=0.941795, val loss=0.177140, val acc=0.949580\n"
          ]
        },
        {
          "output_type": "stream",
          "name": "stderr",
          "text": [
            "179it [00:00, 433.77it/s]\n",
            "45it [00:00, 1371.43it/s]\n"
          ]
        },
        {
          "output_type": "stream",
          "name": "stdout",
          "text": [
            "epoch 27, train loss=0.191441, train acc=0.941795, val loss=0.167147, val acc=0.949580\n"
          ]
        },
        {
          "output_type": "stream",
          "name": "stderr",
          "text": [
            "179it [00:00, 434.76it/s]\n",
            "45it [00:00, 1471.03it/s]\n"
          ]
        },
        {
          "output_type": "stream",
          "name": "stdout",
          "text": [
            "epoch 28, train loss=0.190420, train acc=0.941795, val loss=0.189152, val acc=0.949580\n"
          ]
        },
        {
          "output_type": "stream",
          "name": "stderr",
          "text": [
            "179it [00:00, 418.75it/s]\n",
            "45it [00:00, 1278.92it/s]\n"
          ]
        },
        {
          "output_type": "stream",
          "name": "stdout",
          "text": [
            "epoch 29, train loss=0.191625, train acc=0.941795, val loss=0.174739, val acc=0.949580\n"
          ]
        },
        {
          "output_type": "stream",
          "name": "stderr",
          "text": [
            "179it [00:00, 425.63it/s]\n",
            "45it [00:00, 1343.26it/s]\n"
          ]
        },
        {
          "output_type": "stream",
          "name": "stdout",
          "text": [
            "epoch 30, train loss=0.191754, train acc=0.941795, val loss=0.184700, val acc=0.949580\n"
          ]
        },
        {
          "output_type": "stream",
          "name": "stderr",
          "text": [
            "179it [00:00, 442.05it/s]\n",
            "45it [00:00, 1396.76it/s]\n"
          ]
        },
        {
          "output_type": "stream",
          "name": "stdout",
          "text": [
            "epoch 31, train loss=0.188476, train acc=0.941795, val loss=0.166701, val acc=0.949580\n"
          ]
        },
        {
          "output_type": "stream",
          "name": "stderr",
          "text": [
            "179it [00:00, 429.41it/s]\n",
            "45it [00:00, 1376.41it/s]\n"
          ]
        },
        {
          "output_type": "stream",
          "name": "stdout",
          "text": [
            "epoch 32, train loss=0.188423, train acc=0.941795, val loss=0.180552, val acc=0.949580\n"
          ]
        },
        {
          "output_type": "stream",
          "name": "stderr",
          "text": [
            "179it [00:00, 447.33it/s]\n",
            "45it [00:00, 1496.96it/s]\n"
          ]
        },
        {
          "output_type": "stream",
          "name": "stdout",
          "text": [
            "epoch 33, train loss=0.193496, train acc=0.941795, val loss=0.175598, val acc=0.949580\n"
          ]
        },
        {
          "output_type": "stream",
          "name": "stderr",
          "text": [
            "179it [00:00, 429.30it/s]\n",
            "45it [00:00, 1344.93it/s]\n"
          ]
        },
        {
          "output_type": "stream",
          "name": "stdout",
          "text": [
            "epoch 34, train loss=0.189209, train acc=0.941795, val loss=0.173173, val acc=0.949580\n"
          ]
        },
        {
          "output_type": "stream",
          "name": "stderr",
          "text": [
            "179it [00:00, 438.60it/s]\n",
            "45it [00:00, 1159.82it/s]\n"
          ]
        },
        {
          "output_type": "stream",
          "name": "stdout",
          "text": [
            "epoch 35, train loss=0.190334, train acc=0.941795, val loss=0.167910, val acc=0.949580\n"
          ]
        },
        {
          "output_type": "stream",
          "name": "stderr",
          "text": [
            "179it [00:00, 411.97it/s]\n",
            "45it [00:00, 1372.14it/s]\n"
          ]
        },
        {
          "output_type": "stream",
          "name": "stdout",
          "text": [
            "epoch 36, train loss=0.188433, train acc=0.941795, val loss=0.168684, val acc=0.949580\n"
          ]
        },
        {
          "output_type": "stream",
          "name": "stderr",
          "text": [
            "179it [00:00, 446.66it/s]\n",
            "45it [00:00, 1423.37it/s]\n"
          ]
        },
        {
          "output_type": "stream",
          "name": "stdout",
          "text": [
            "epoch 37, train loss=0.190365, train acc=0.941795, val loss=0.168419, val acc=0.949580\n"
          ]
        },
        {
          "output_type": "stream",
          "name": "stderr",
          "text": [
            "179it [00:00, 436.86it/s]\n",
            "45it [00:00, 1488.87it/s]\n"
          ]
        },
        {
          "output_type": "stream",
          "name": "stdout",
          "text": [
            "epoch 38, train loss=0.190467, train acc=0.941795, val loss=0.176006, val acc=0.949580\n"
          ]
        },
        {
          "output_type": "stream",
          "name": "stderr",
          "text": [
            "179it [00:00, 450.58it/s]\n",
            "45it [00:00, 1359.58it/s]\n"
          ]
        },
        {
          "output_type": "stream",
          "name": "stdout",
          "text": [
            "epoch 39, train loss=0.188732, train acc=0.941795, val loss=0.168808, val acc=0.949580\n"
          ]
        },
        {
          "output_type": "stream",
          "name": "stderr",
          "text": [
            "179it [00:00, 446.66it/s]\n",
            "45it [00:00, 1484.67it/s]\n"
          ]
        },
        {
          "output_type": "stream",
          "name": "stdout",
          "text": [
            "epoch 40, train loss=0.192613, train acc=0.941795, val loss=0.168572, val acc=0.949580\n"
          ]
        },
        {
          "output_type": "stream",
          "name": "stderr",
          "text": [
            "179it [00:00, 427.64it/s]\n",
            "45it [00:00, 1300.74it/s]\n"
          ]
        },
        {
          "output_type": "stream",
          "name": "stdout",
          "text": [
            "epoch 41, train loss=0.192537, train acc=0.941795, val loss=0.169371, val acc=0.949580\n"
          ]
        },
        {
          "output_type": "stream",
          "name": "stderr",
          "text": [
            "179it [00:00, 428.74it/s]\n",
            "45it [00:00, 1107.23it/s]\n"
          ]
        },
        {
          "output_type": "stream",
          "name": "stdout",
          "text": [
            "epoch 42, train loss=0.187753, train acc=0.941795, val loss=0.171170, val acc=0.949580\n"
          ]
        },
        {
          "output_type": "stream",
          "name": "stderr",
          "text": [
            "179it [00:00, 429.83it/s]\n",
            "45it [00:00, 1254.87it/s]\n"
          ]
        },
        {
          "output_type": "stream",
          "name": "stdout",
          "text": [
            "epoch 43, train loss=0.186032, train acc=0.941795, val loss=0.171371, val acc=0.949580\n"
          ]
        },
        {
          "output_type": "stream",
          "name": "stderr",
          "text": [
            "179it [00:00, 440.70it/s]\n",
            "45it [00:00, 1261.74it/s]\n"
          ]
        },
        {
          "output_type": "stream",
          "name": "stdout",
          "text": [
            "epoch 44, train loss=0.187913, train acc=0.941795, val loss=0.171691, val acc=0.949580\n"
          ]
        },
        {
          "output_type": "stream",
          "name": "stderr",
          "text": [
            "179it [00:00, 426.39it/s]\n",
            "45it [00:00, 1331.50it/s]\n"
          ]
        },
        {
          "output_type": "stream",
          "name": "stdout",
          "text": [
            "epoch 45, train loss=0.189592, train acc=0.941795, val loss=0.173111, val acc=0.949580\n"
          ]
        },
        {
          "output_type": "stream",
          "name": "stderr",
          "text": [
            "179it [00:00, 435.75it/s]\n",
            "45it [00:00, 1599.14it/s]\n"
          ]
        },
        {
          "output_type": "stream",
          "name": "stdout",
          "text": [
            "epoch 46, train loss=0.186769, train acc=0.941795, val loss=0.172927, val acc=0.949580\n"
          ]
        },
        {
          "output_type": "stream",
          "name": "stderr",
          "text": [
            "179it [00:00, 432.85it/s]\n",
            "45it [00:00, 1476.80it/s]\n"
          ]
        },
        {
          "output_type": "stream",
          "name": "stdout",
          "text": [
            "epoch 47, train loss=0.185644, train acc=0.941795, val loss=0.169933, val acc=0.949580\n"
          ]
        },
        {
          "output_type": "stream",
          "name": "stderr",
          "text": [
            "179it [00:00, 433.21it/s]\n",
            "45it [00:00, 1391.99it/s]\n"
          ]
        },
        {
          "output_type": "stream",
          "name": "stdout",
          "text": [
            "epoch 48, train loss=0.187754, train acc=0.941795, val loss=0.169702, val acc=0.949580\n"
          ]
        },
        {
          "output_type": "stream",
          "name": "stderr",
          "text": [
            "179it [00:00, 434.95it/s]\n",
            "45it [00:00, 1460.65it/s]\n"
          ]
        },
        {
          "output_type": "stream",
          "name": "stdout",
          "text": [
            "epoch 49, train loss=0.185509, train acc=0.941795, val loss=0.172429, val acc=0.949580\n"
          ]
        },
        {
          "output_type": "stream",
          "name": "stderr",
          "text": [
            "179it [00:00, 451.61it/s]\n",
            "45it [00:00, 1462.26it/s]\n"
          ]
        },
        {
          "output_type": "stream",
          "name": "stdout",
          "text": [
            "epoch 50, train loss=0.185663, train acc=0.941795, val loss=0.170051, val acc=0.949580\n"
          ]
        },
        {
          "output_type": "stream",
          "name": "stderr",
          "text": [
            "179it [00:00, 436.22it/s]\n",
            "45it [00:00, 1402.81it/s]\n"
          ]
        },
        {
          "output_type": "stream",
          "name": "stdout",
          "text": [
            "epoch 51, train loss=0.185285, train acc=0.941795, val loss=0.168787, val acc=0.949580\n"
          ]
        },
        {
          "output_type": "stream",
          "name": "stderr",
          "text": [
            "179it [00:00, 429.90it/s]\n",
            "45it [00:00, 1347.42it/s]\n"
          ]
        },
        {
          "output_type": "stream",
          "name": "stdout",
          "text": [
            "epoch 52, train loss=0.185047, train acc=0.941795, val loss=0.170240, val acc=0.949580\n"
          ]
        },
        {
          "output_type": "stream",
          "name": "stderr",
          "text": [
            "179it [00:00, 434.86it/s]\n",
            "45it [00:00, 1251.86it/s]\n"
          ]
        },
        {
          "output_type": "stream",
          "name": "stdout",
          "text": [
            "epoch 53, train loss=0.185234, train acc=0.941795, val loss=0.169406, val acc=0.949580\n"
          ]
        },
        {
          "output_type": "stream",
          "name": "stderr",
          "text": [
            "179it [00:00, 429.26it/s]\n",
            "45it [00:00, 1280.80it/s]\n"
          ]
        },
        {
          "output_type": "stream",
          "name": "stdout",
          "text": [
            "epoch 54, train loss=0.190369, train acc=0.941795, val loss=0.170504, val acc=0.949580\n"
          ]
        },
        {
          "output_type": "stream",
          "name": "stderr",
          "text": [
            "179it [00:00, 442.95it/s]\n",
            "45it [00:00, 1189.65it/s]\n"
          ]
        },
        {
          "output_type": "stream",
          "name": "stdout",
          "text": [
            "epoch 55, train loss=0.187428, train acc=0.941795, val loss=0.172409, val acc=0.949580\n"
          ]
        },
        {
          "output_type": "stream",
          "name": "stderr",
          "text": [
            "179it [00:00, 398.82it/s]\n",
            "45it [00:00, 1487.83it/s]\n"
          ]
        },
        {
          "output_type": "stream",
          "name": "stdout",
          "text": [
            "epoch 56, train loss=0.184992, train acc=0.941795, val loss=0.169098, val acc=0.949580\n"
          ]
        },
        {
          "output_type": "stream",
          "name": "stderr",
          "text": [
            "179it [00:00, 419.61it/s]\n",
            "45it [00:00, 1351.24it/s]\n"
          ]
        },
        {
          "output_type": "stream",
          "name": "stdout",
          "text": [
            "epoch 57, train loss=0.184512, train acc=0.941795, val loss=0.168023, val acc=0.949580\n"
          ]
        },
        {
          "output_type": "stream",
          "name": "stderr",
          "text": [
            "179it [00:00, 424.04it/s]\n",
            "45it [00:00, 1196.14it/s]\n"
          ]
        },
        {
          "output_type": "stream",
          "name": "stdout",
          "text": [
            "epoch 58, train loss=0.185479, train acc=0.941795, val loss=0.170955, val acc=0.949580\n"
          ]
        },
        {
          "output_type": "stream",
          "name": "stderr",
          "text": [
            "179it [00:00, 437.67it/s]\n",
            "45it [00:00, 1347.16it/s]\n"
          ]
        },
        {
          "output_type": "stream",
          "name": "stdout",
          "text": [
            "epoch 59, train loss=0.183331, train acc=0.941795, val loss=0.173630, val acc=0.949580\n"
          ]
        },
        {
          "output_type": "stream",
          "name": "stderr",
          "text": [
            "179it [00:00, 434.11it/s]\n",
            "45it [00:00, 1307.57it/s]\n"
          ]
        },
        {
          "output_type": "stream",
          "name": "stdout",
          "text": [
            "epoch 60, train loss=0.186022, train acc=0.941795, val loss=0.171227, val acc=0.949580\n"
          ]
        },
        {
          "output_type": "stream",
          "name": "stderr",
          "text": [
            "179it [00:00, 431.66it/s]\n",
            "45it [00:00, 1378.48it/s]\n"
          ]
        },
        {
          "output_type": "stream",
          "name": "stdout",
          "text": [
            "epoch 61, train loss=0.186540, train acc=0.941795, val loss=0.168521, val acc=0.949580\n"
          ]
        },
        {
          "output_type": "stream",
          "name": "stderr",
          "text": [
            "179it [00:00, 436.65it/s]\n",
            "45it [00:00, 1258.06it/s]\n"
          ]
        },
        {
          "output_type": "stream",
          "name": "stdout",
          "text": [
            "epoch 62, train loss=0.188101, train acc=0.941795, val loss=0.174913, val acc=0.949580\n"
          ]
        },
        {
          "output_type": "stream",
          "name": "stderr",
          "text": [
            "179it [00:00, 444.45it/s]\n",
            "45it [00:00, 1327.79it/s]\n"
          ]
        },
        {
          "output_type": "stream",
          "name": "stdout",
          "text": [
            "epoch 63, train loss=0.186915, train acc=0.941795, val loss=0.172165, val acc=0.949580\n"
          ]
        },
        {
          "output_type": "stream",
          "name": "stderr",
          "text": [
            "179it [00:00, 447.25it/s]\n",
            "45it [00:00, 1545.18it/s]\n"
          ]
        },
        {
          "output_type": "stream",
          "name": "stdout",
          "text": [
            "epoch 64, train loss=0.185122, train acc=0.941795, val loss=0.168413, val acc=0.949580\n"
          ]
        },
        {
          "output_type": "stream",
          "name": "stderr",
          "text": [
            "179it [00:00, 450.37it/s]\n",
            "45it [00:00, 1487.39it/s]\n"
          ]
        },
        {
          "output_type": "stream",
          "name": "stdout",
          "text": [
            "epoch 65, train loss=0.183301, train acc=0.941795, val loss=0.168831, val acc=0.949580\n"
          ]
        },
        {
          "output_type": "stream",
          "name": "stderr",
          "text": [
            "179it [00:00, 418.88it/s]\n",
            "45it [00:00, 1325.14it/s]\n"
          ]
        },
        {
          "output_type": "stream",
          "name": "stdout",
          "text": [
            "epoch 66, train loss=0.183980, train acc=0.941795, val loss=0.167981, val acc=0.949580\n"
          ]
        },
        {
          "output_type": "stream",
          "name": "stderr",
          "text": [
            "179it [00:00, 422.03it/s]\n",
            "45it [00:00, 1284.01it/s]\n"
          ]
        },
        {
          "output_type": "stream",
          "name": "stdout",
          "text": [
            "epoch 67, train loss=0.185823, train acc=0.941795, val loss=0.167648, val acc=0.949580\n"
          ]
        },
        {
          "output_type": "stream",
          "name": "stderr",
          "text": [
            "179it [00:00, 419.67it/s]\n",
            "45it [00:00, 1082.75it/s]\n"
          ]
        },
        {
          "output_type": "stream",
          "name": "stdout",
          "text": [
            "epoch 68, train loss=0.188951, train acc=0.941795, val loss=0.166179, val acc=0.949580\n"
          ]
        },
        {
          "output_type": "stream",
          "name": "stderr",
          "text": [
            "179it [00:00, 427.56it/s]\n",
            "45it [00:00, 1222.77it/s]\n"
          ]
        },
        {
          "output_type": "stream",
          "name": "stdout",
          "text": [
            "epoch 69, train loss=0.181730, train acc=0.941795, val loss=0.172915, val acc=0.949580\n"
          ]
        },
        {
          "output_type": "stream",
          "name": "stderr",
          "text": [
            "179it [00:00, 404.66it/s]\n",
            "45it [00:00, 1279.25it/s]\n"
          ]
        },
        {
          "output_type": "stream",
          "name": "stdout",
          "text": [
            "epoch 70, train loss=0.182821, train acc=0.941795, val loss=0.175694, val acc=0.949580\n"
          ]
        },
        {
          "output_type": "stream",
          "name": "stderr",
          "text": [
            "179it [00:00, 379.26it/s]\n",
            "45it [00:00, 1285.35it/s]\n"
          ]
        },
        {
          "output_type": "stream",
          "name": "stdout",
          "text": [
            "epoch 71, train loss=0.183323, train acc=0.941795, val loss=0.169262, val acc=0.949580\n"
          ]
        },
        {
          "output_type": "stream",
          "name": "stderr",
          "text": [
            "179it [00:00, 423.85it/s]\n",
            "45it [00:00, 1230.25it/s]\n"
          ]
        },
        {
          "output_type": "stream",
          "name": "stdout",
          "text": [
            "epoch 72, train loss=0.184675, train acc=0.941795, val loss=0.167135, val acc=0.949580\n"
          ]
        },
        {
          "output_type": "stream",
          "name": "stderr",
          "text": [
            "179it [00:00, 405.38it/s]\n",
            "45it [00:00, 1249.65it/s]\n"
          ]
        },
        {
          "output_type": "stream",
          "name": "stdout",
          "text": [
            "epoch 73, train loss=0.182611, train acc=0.941795, val loss=0.171185, val acc=0.949580\n"
          ]
        },
        {
          "output_type": "stream",
          "name": "stderr",
          "text": [
            "179it [00:00, 410.84it/s]\n",
            "45it [00:00, 1283.46it/s]\n"
          ]
        },
        {
          "output_type": "stream",
          "name": "stdout",
          "text": [
            "epoch 74, train loss=0.181172, train acc=0.941795, val loss=0.178036, val acc=0.949580\n"
          ]
        },
        {
          "output_type": "stream",
          "name": "stderr",
          "text": [
            "179it [00:00, 431.27it/s]\n",
            "45it [00:00, 1192.06it/s]\n"
          ]
        },
        {
          "output_type": "stream",
          "name": "stdout",
          "text": [
            "epoch 75, train loss=0.181515, train acc=0.941795, val loss=0.169052, val acc=0.949580\n"
          ]
        },
        {
          "output_type": "stream",
          "name": "stderr",
          "text": [
            "179it [00:00, 444.91it/s]\n",
            "45it [00:00, 1437.97it/s]\n"
          ]
        },
        {
          "output_type": "stream",
          "name": "stdout",
          "text": [
            "epoch 76, train loss=0.183630, train acc=0.941795, val loss=0.168962, val acc=0.949580\n"
          ]
        },
        {
          "output_type": "stream",
          "name": "stderr",
          "text": [
            "179it [00:00, 425.34it/s]\n",
            "45it [00:00, 1341.84it/s]\n"
          ]
        },
        {
          "output_type": "stream",
          "name": "stdout",
          "text": [
            "epoch 77, train loss=0.184217, train acc=0.941795, val loss=0.170615, val acc=0.949580\n"
          ]
        },
        {
          "output_type": "stream",
          "name": "stderr",
          "text": [
            "179it [00:00, 431.74it/s]\n",
            "45it [00:00, 1487.59it/s]\n"
          ]
        },
        {
          "output_type": "stream",
          "name": "stdout",
          "text": [
            "epoch 78, train loss=0.183223, train acc=0.941795, val loss=0.172797, val acc=0.949580\n"
          ]
        },
        {
          "output_type": "stream",
          "name": "stderr",
          "text": [
            "179it [00:00, 438.68it/s]\n",
            "45it [00:00, 1460.23it/s]\n"
          ]
        },
        {
          "output_type": "stream",
          "name": "stdout",
          "text": [
            "epoch 79, train loss=0.183806, train acc=0.941795, val loss=0.174407, val acc=0.949580\n"
          ]
        },
        {
          "output_type": "stream",
          "name": "stderr",
          "text": [
            "179it [00:00, 453.62it/s]\n",
            "45it [00:00, 1411.89it/s]\n"
          ]
        },
        {
          "output_type": "stream",
          "name": "stdout",
          "text": [
            "epoch 80, train loss=0.184235, train acc=0.941795, val loss=0.169055, val acc=0.949580\n"
          ]
        },
        {
          "output_type": "stream",
          "name": "stderr",
          "text": [
            "179it [00:00, 427.69it/s]\n",
            "45it [00:00, 1271.76it/s]\n"
          ]
        },
        {
          "output_type": "stream",
          "name": "stdout",
          "text": [
            "epoch 81, train loss=0.183733, train acc=0.941795, val loss=0.166451, val acc=0.949580\n"
          ]
        },
        {
          "output_type": "stream",
          "name": "stderr",
          "text": [
            "179it [00:00, 447.35it/s]\n",
            "45it [00:00, 1477.56it/s]\n"
          ]
        },
        {
          "output_type": "stream",
          "name": "stdout",
          "text": [
            "epoch 82, train loss=0.185603, train acc=0.941795, val loss=0.170602, val acc=0.949580\n"
          ]
        },
        {
          "output_type": "stream",
          "name": "stderr",
          "text": [
            "179it [00:00, 434.82it/s]\n",
            "45it [00:00, 1467.54it/s]\n"
          ]
        },
        {
          "output_type": "stream",
          "name": "stdout",
          "text": [
            "epoch 83, train loss=0.181895, train acc=0.941795, val loss=0.170017, val acc=0.949580\n"
          ]
        },
        {
          "output_type": "stream",
          "name": "stderr",
          "text": [
            "179it [00:00, 431.60it/s]\n",
            "45it [00:00, 1250.60it/s]\n"
          ]
        },
        {
          "output_type": "stream",
          "name": "stdout",
          "text": [
            "epoch 84, train loss=0.180975, train acc=0.941795, val loss=0.173024, val acc=0.949580\n"
          ]
        },
        {
          "output_type": "stream",
          "name": "stderr",
          "text": [
            "179it [00:00, 417.36it/s]\n",
            "45it [00:00, 1230.99it/s]\n"
          ]
        },
        {
          "output_type": "stream",
          "name": "stdout",
          "text": [
            "epoch 85, train loss=0.184468, train acc=0.941795, val loss=0.169242, val acc=0.949580\n"
          ]
        },
        {
          "output_type": "stream",
          "name": "stderr",
          "text": [
            "179it [00:00, 418.60it/s]\n",
            "45it [00:00, 1190.64it/s]\n"
          ]
        },
        {
          "output_type": "stream",
          "name": "stdout",
          "text": [
            "epoch 86, train loss=0.182359, train acc=0.941795, val loss=0.168918, val acc=0.949580\n"
          ]
        },
        {
          "output_type": "stream",
          "name": "stderr",
          "text": [
            "179it [00:00, 436.46it/s]\n",
            "45it [00:00, 1556.37it/s]\n"
          ]
        },
        {
          "output_type": "stream",
          "name": "stdout",
          "text": [
            "epoch 87, train loss=0.181517, train acc=0.941795, val loss=0.167774, val acc=0.949580\n"
          ]
        },
        {
          "output_type": "stream",
          "name": "stderr",
          "text": [
            "179it [00:00, 435.98it/s]\n",
            "45it [00:00, 1263.70it/s]\n"
          ]
        },
        {
          "output_type": "stream",
          "name": "stdout",
          "text": [
            "epoch 88, train loss=0.182922, train acc=0.941795, val loss=0.171288, val acc=0.949580\n"
          ]
        },
        {
          "output_type": "stream",
          "name": "stderr",
          "text": [
            "179it [00:00, 437.98it/s]\n",
            "45it [00:00, 1489.85it/s]\n"
          ]
        },
        {
          "output_type": "stream",
          "name": "stdout",
          "text": [
            "epoch 89, train loss=0.179991, train acc=0.941795, val loss=0.170847, val acc=0.949580\n"
          ]
        },
        {
          "output_type": "stream",
          "name": "stderr",
          "text": [
            "179it [00:00, 415.11it/s]\n",
            "45it [00:00, 1270.47it/s]\n"
          ]
        },
        {
          "output_type": "stream",
          "name": "stdout",
          "text": [
            "epoch 90, train loss=0.181233, train acc=0.941795, val loss=0.169807, val acc=0.949580\n"
          ]
        },
        {
          "output_type": "stream",
          "name": "stderr",
          "text": [
            "179it [00:00, 442.02it/s]\n",
            "45it [00:00, 1313.06it/s]\n"
          ]
        },
        {
          "output_type": "stream",
          "name": "stdout",
          "text": [
            "epoch 91, train loss=0.181792, train acc=0.941795, val loss=0.169373, val acc=0.949580\n"
          ]
        },
        {
          "output_type": "stream",
          "name": "stderr",
          "text": [
            "179it [00:00, 419.08it/s]\n",
            "45it [00:00, 1438.30it/s]\n"
          ]
        },
        {
          "output_type": "stream",
          "name": "stdout",
          "text": [
            "epoch 92, train loss=0.180376, train acc=0.941795, val loss=0.167446, val acc=0.949580\n"
          ]
        },
        {
          "output_type": "stream",
          "name": "stderr",
          "text": [
            "179it [00:00, 443.81it/s]\n",
            "45it [00:00, 1430.98it/s]\n"
          ]
        },
        {
          "output_type": "stream",
          "name": "stdout",
          "text": [
            "epoch 93, train loss=0.180917, train acc=0.941795, val loss=0.171554, val acc=0.949580\n"
          ]
        },
        {
          "output_type": "stream",
          "name": "stderr",
          "text": [
            "179it [00:00, 414.61it/s]\n",
            "45it [00:00, 1334.48it/s]\n"
          ]
        },
        {
          "output_type": "stream",
          "name": "stdout",
          "text": [
            "epoch 94, train loss=0.179988, train acc=0.941795, val loss=0.169844, val acc=0.949580\n"
          ]
        },
        {
          "output_type": "stream",
          "name": "stderr",
          "text": [
            "179it [00:00, 439.56it/s]\n",
            "45it [00:00, 1341.75it/s]\n"
          ]
        },
        {
          "output_type": "stream",
          "name": "stdout",
          "text": [
            "epoch 95, train loss=0.180993, train acc=0.941795, val loss=0.170977, val acc=0.949580\n"
          ]
        },
        {
          "output_type": "stream",
          "name": "stderr",
          "text": [
            "179it [00:00, 414.25it/s]\n",
            "45it [00:00, 1361.07it/s]\n"
          ]
        },
        {
          "output_type": "stream",
          "name": "stdout",
          "text": [
            "epoch 96, train loss=0.178738, train acc=0.941795, val loss=0.170005, val acc=0.949580\n"
          ]
        },
        {
          "output_type": "stream",
          "name": "stderr",
          "text": [
            "179it [00:00, 449.36it/s]\n",
            "45it [00:00, 1419.18it/s]\n"
          ]
        },
        {
          "output_type": "stream",
          "name": "stdout",
          "text": [
            "epoch 97, train loss=0.178036, train acc=0.941795, val loss=0.179807, val acc=0.949580\n"
          ]
        },
        {
          "output_type": "stream",
          "name": "stderr",
          "text": [
            "179it [00:00, 372.89it/s]\n",
            "45it [00:00, 881.77it/s]\n"
          ]
        },
        {
          "output_type": "stream",
          "name": "stdout",
          "text": [
            "epoch 98, train loss=0.178883, train acc=0.941795, val loss=0.173936, val acc=0.949580\n"
          ]
        },
        {
          "output_type": "stream",
          "name": "stderr",
          "text": [
            "179it [00:00, 277.52it/s]\n",
            "45it [00:00, 749.08it/s]\n"
          ]
        },
        {
          "output_type": "stream",
          "name": "stdout",
          "text": [
            "epoch 99, train loss=0.180529, train acc=0.941795, val loss=0.172110, val acc=0.949580\n"
          ]
        }
      ]
    },
    {
      "cell_type": "code",
      "source": [
        "%matplotlib inline\n",
        "NUM_EPOCHS=hyperparams['num_epochs']\n",
        "plt.plot(range(0,len(train_losses)), train_losses, 'g', label='Training loss')\n",
        "plt.plot(range(0,len(train_losses)), val_losses, 'b', label='Validation loss')\n",
        "plt.title('Training and Validation loss')\n",
        "plt.xlabel('Epochs')\n",
        "plt.ylabel('Loss')\n",
        "plt.legend()\n",
        "plt.show()"
      ],
      "metadata": {
        "colab": {
          "base_uri": "https://localhost:8080/",
          "height": 295
        },
        "id": "qRulD4Ls6ypE",
        "outputId": "1cfef37a-362e-476d-9c3f-05ddb9e49ab6"
      },
      "execution_count": 17,
      "outputs": [
        {
          "output_type": "display_data",
          "data": {
            "text/plain": [
              "<Figure size 432x288 with 1 Axes>"
            ],
            "image/png": "[encoded data removed]"
          },
          "metadata": {
            "needs_background": "light"
          }
        }
      ]
    },
    {
      "cell_type": "code",
      "source": [
        "plt.plot(range(0,len(train_accuracies)), train_accuracies, 'g', label='Training accuracy')\n",
        "plt.plot(range(0,len(train_accuracies)), val_accuracies, 'b', label='Validation accuracy')\n",
        "plt.title('Training and Validation accuracies')\n",
        "plt.xlabel('Epochs')\n",
        "plt.ylabel('Loss')\n",
        "plt.legend()\n",
        "plt.show()"
      ],
      "metadata": {
        "colab": {
          "base_uri": "https://localhost:8080/",
          "height": 295
        },
        "id": "HcpBUJF562-l",
        "outputId": "551e7b88-5bf2-4ed3-fd0c-8c055b7f8a0a"
      },
      "execution_count": 19,
      "outputs": [
        {
          "output_type": "display_data",
          "data": {
            "text/plain": [
              "<Figure size 432x288 with 1 Axes>"
            ],
            "image/png": "[encoded data removed]"
          },
          "metadata": {
            "needs_background": "light"
          }
        }
      ]
    },
    {
      "cell_type": "code",
      "source": [
        "correct_no_stroke, wrong_no_stroke, correct_stroke, wrong_stroke= compute_confusion_matrix(\n",
        "    val_predictions,\n",
        "    val_labels\n",
        ")\n",
        "cf_matrix = [\n",
        "    [correct_no_stroke, wrong_stroke],\n",
        "    [wrong_no_stroke, correct_stroke]\n",
        "]\n",
        "import seaborn as sns\n",
        "\n",
        "ax = sns.heatmap(cf_matrix, annot=True, cmap='Blues', fmt='d')\n",
        "\n",
        "ax.set_title('Confusion Matrix\\n\\n');\n",
        "ax.set_xlabel('\\nPredicted Values')\n",
        "ax.set_ylabel('Actual Values ');\n",
        "ax.xaxis.set_ticklabels(['no stroke','stroke'])\n",
        "ax.yaxis.set_ticklabels(['no stroke','stroke'])\n",
        "plt.show()"
      ],
      "metadata": {
        "colab": {
          "base_uri": "https://localhost:8080/",
          "height": 337
        },
        "id": "DR_L9Jjv67Jm",
        "outputId": "dfdf66ce-01b8-485e-881e-ae4047445e58"
      },
      "execution_count": 20,
      "outputs": [
        {
          "output_type": "display_data",
          "data": {
            "text/plain": [
              "<Figure size 432x288 with 2 Axes>"
            ],
            "image/png": "[encoded data removed]"
          },
          "metadata": {
            "needs_background": "light"
          }
        }
      ]
    },
    {
      "cell_type": "markdown",
      "source": [
        ":We are now done with our classification task (phew!! _insert spongebob gif here_), now we do the same thing with regression. Although we are going to change some things, firstly we now wish to predict a non-binary variable, so we are no longer going to be assigning labels to our data, instead we will be predicting a scalar. Because of this, our loss function is no longer appropriate and we are going to use __MSE()__ instead. Except from this not a whole not will change, but I will comment where it has changed. But again we need to split our data appropriately and create a dataloader for our test and validation data. I will collapse this into one cell and leave it uncommented as it is nothing novel. "
      ],
      "metadata": {
        "id": "NVF2FzhjW9ry"
      }
    },
    {
      "cell_type": "code",
      "source": [
        "X = data.drop([\"bmi\"], axis=1)\n",
        "y = data[\"bmi\"]\n",
        "\n",
        "X_train, X_test, y_train, y_test = train_test_split(X, y, test_size=0.2, shuffle=True) #splitting data into test and train.\n",
        "\n",
        "## turning our data into numpy arrays\n",
        "X_train = X_train.to_numpy()\n",
        "X_test = X_test.to_numpy()\n",
        "y_train = y_train.to_numpy()\n",
        "y_test = y_test.to_numpy()\n",
        "\n",
        "class BMIDataset(Dataset): \n",
        "\n",
        "  ## A class which will return a dataset\n",
        "  def __init__(self, X, y): \n",
        "    self.X = X\n",
        "    self.y = y\n",
        "\n",
        "  def __getitem__(self, index):\n",
        "    \n",
        "    ##concatenting the labels and features as mentioned in previous text cell\n",
        "    label=self.y[index]\n",
        "    features = self.X[index,:]\n",
        "    sample = features, label\n",
        "    return sample\n",
        "\n",
        "  def __len__(self): \n",
        "    ##returns how many data points are in our dataset\n",
        "    return len(self.y)\n",
        "\n",
        "\n",
        "train_dataset=BMIDataset(X_train, y_train)\n",
        "test_dataset=BMIDataset(X_test, y_test)\n",
        "\n",
        "BATCH_SIZE=16\n",
        "##Creating batches of size BATCH_SIZE for both our training and test data\n",
        "train_dataloader = DataLoader(\n",
        "    dataset=train_dataset, \n",
        "    batch_size=BATCH_SIZE,\n",
        "    shuffle=True  #shuffle the batches between each epoch [iulia] SHUFFLE!!\n",
        ") \n",
        "\n",
        "validation_dataloader = DataLoader(\n",
        "    dataset=test_dataset, \n",
        "    batch_size=BATCH_SIZE\n",
        ")\n",
        "\n"
      ],
      "metadata": {
        "id": "FMCidDcQZl3P"
      },
      "execution_count": 21,
      "outputs": []
    },
    {
      "cell_type": "markdown",
      "source": [
        "**Building the model** \n",
        "\n",
        "Now we are going to build our model and rather boring (because I am lazy) it is going to remain unchanged (after all, why change perfection?).\n",
        "\n"
      ],
      "metadata": {
        "id": "JlDzaeZ0aYH-"
      }
    },
    {
      "cell_type": "code",
      "source": [
        "class BMIModel(nn.Module): \n",
        "\n",
        "    def __init__(self, \n",
        "                 hidden_size_1: int, \n",
        "                 hidden_size_2: int,\n",
        "                 hidden_size_3 :int,\n",
        "                 activation_fn: Callable):\n",
        "        super().__init__()\n",
        "        self.hidden_size_1 = hidden_size_1\n",
        "        self.hidden_size_2 = hidden_size_2\n",
        "        self.hidden_size_3 = hidden_size_3    \n",
        "        \n",
        "        self.layer_1 = nn.Linear(in_features = 10, out_features = self.hidden_size_1, bias=True)\n",
        "        self.layer_2 = nn.Linear(in_features = self.hidden_size_1, out_features = self.hidden_size_2, bias=True)\n",
        "        self.layer_3 = nn.Linear(in_features = self.hidden_size_2, out_features = self.hidden_size_3, bias=True)\n",
        "        self.layer_4 = nn.Linear(in_features = self.hidden_size_3, out_features = self.hidden_size_3, bias=True)\n",
        "        self.layer_5 = nn.Linear(in_features = self.hidden_size_3, out_features = self.hidden_size_3, bias=True)\n",
        "\n",
        "        self.output_layer = nn.Linear(in_features = self.hidden_size_3, out_features = 1, bias = True)    \n",
        "    \n",
        "        self.activation_fn = activation_fn    \n",
        "    \n",
        "    def forward(self, x):\n",
        "        # TODO: layer1 + activation\n",
        "        h1 = self.activation_fn(self.layer_1(x))\n",
        "        \n",
        "        # TODO: layer2 + activation\n",
        "        h2 = self.activation_fn(self.layer_2(h1))        \n",
        "        \n",
        "        h3= self.activation_fn(self.layer_3(h2))\n",
        "\n",
        "        h4= self.activation_fn(self.layer_3(h3))\n",
        "        h5= self.activation_fn(self.layer_3(h4))\n",
        "        \n",
        "        # TODO: output layer\n",
        "        out = self.output_layer(h5)        \n",
        "        \n",
        "        return out"
      ],
      "metadata": {
        "id": "_gMPLdf7b-zU"
      },
      "execution_count": 34,
      "outputs": []
    },
    {
      "cell_type": "markdown",
      "source": [
        "Now we define our loss criterion"
      ],
      "metadata": {
        "id": "aPRoXYsMcMw2"
      }
    },
    {
      "cell_type": "code",
      "source": [
        "loss_crt = nn.MSELoss()"
      ],
      "metadata": {
        "id": "tKVJO47KcRx9"
      },
      "execution_count": 35,
      "outputs": []
    },
    {
      "cell_type": "markdown",
      "source": [
        "Now we modify our functions from earlier which helped us compute the error on training and validation set."
      ],
      "metadata": {
        "id": "hJrsXrw5cVgM"
      }
    },
    {
      "cell_type": "code",
      "source": [
        "def train_reg_epoch(model, train_dataloader, loss_crt, optimizer, device): \n",
        "  model.train() \n",
        "  epoch_loss = 0.0\n",
        "  num_batches = len(train_dataloader)\n",
        "  predictions = [] #where we will add the predictions\n",
        "  for idx, batch in tqdm(enumerate(train_dataloader)): \n",
        "    batch_features, batch_labels = batch #extract features and labels from dataloader\n",
        "\n",
        "    batch_features = batch_features.to(device) #send our data to device\n",
        "    batch_labels = batch_labels.to(device).squeeze() #likewise and squeze to transform into vector of length 16 opposed to 16x1 matrix\n",
        "    \n",
        "    output = model(batch_features.float()).squeeze() #run our data through our model?\n",
        "    \n",
        "    predictions += output.tolist() #update the lists\n",
        "    \n",
        "    loss= loss_crt(output.to(torch.float64), batch_labels.to(torch.float64)) #calculate error from out model\n",
        "    loss_scalar = loss.item() #turn the loss output into a scaler\n",
        "    loss.backward() #propogate backwards through loss function\n",
        "\n",
        "    optimizer.step() #optimise our parameters\n",
        "\n",
        "    model.zero_grad() #reset the gradients\n",
        "\n",
        "    epoch_loss += loss_scalar #add it to our loss for this epoch\n",
        "\n",
        "  train_epoch_loss = epoch_loss/num_batches #average loss over a batch in this epoch\n",
        "  return train_epoch_loss, predictions\n",
        "\n",
        "\n",
        "def eval_reg_epoch(model, validation_dataloader, loss_crt, device): \n",
        "\n",
        "  model.eval() \n",
        "  epoch_loss=0.0\n",
        "  num_batches = len(validation_dataloader)\n",
        "  predictions = []\n",
        "  with torch.no_grad(): #we have no interest in computing gradients now\n",
        "    for idx, batch in tqdm(enumerate(validation_dataloader)): #enumerates over dataloader\n",
        "      batch_features, batch_labels = batch #as above\n",
        "\n",
        "      batch_features = batch_features.to(device) #as above\n",
        "      batch_labels = batch_labels.to(device).squeeze() #as above\n",
        "\n",
        "      output = model(batch_features.float()).squeeze() #as above\n",
        "      \n",
        "      predictions += output.tolist() #as above\n",
        "      \n",
        "      loss= loss_crt(output.to(torch.float64), batch_labels.to(torch.float64)) #as above\n",
        "      loss_scalar = loss.item() #as above\n",
        "      epoch_loss+= loss_scalar#as above\n",
        "  val_epoch_loss = epoch_loss/num_batches #as above\n",
        "  return val_epoch_loss, predictions"
      ],
      "metadata": {
        "id": "actmksidcdU4"
      },
      "execution_count": 36,
      "outputs": []
    },
    {
      "cell_type": "code",
      "source": [
        "hyperparams = {\n",
        "    'lr': 0.01,\n",
        "    'num_epochs': 200,\n",
        "    'hidden_size_1': 512,\n",
        "    'hidden_size_2': 512,\n",
        "    'hidden_size_3':512,\n",
        "    'activation_fn': nn.ReLU(),\n",
        "} #setting up our hyperparameters which we will feed in to our model and at some point hopefully optimize!\n",
        "device = torch.device('cuda') \n",
        "model = BMIModel(\n",
        "    hidden_size_1=hyperparams['hidden_size_1'],\n",
        "    hidden_size_2=hyperparams['hidden_size_2'],\n",
        "    hidden_size_3=hyperparams['hidden_size_3'],\n",
        "    activation_fn=hyperparams['activation_fn']\n",
        ")\n",
        "model.to(device) #move our model to gpu\n",
        "\n",
        "optimizer = torch.optim.Adam( ##We shall pick Adam as our optimiser as Iulia says it funny\n",
        "    params = model.parameters(), \n",
        "    lr = hyperparams['lr'])\n",
        "lr_scheduler = torch.optim.lr_scheduler.StepLR(optimizer, 60, gamma=0.1)\n",
        "                                               \n",
        "train_losses, val_losses = [], []\n",
        "\n",
        "for epoch_idx in range(hyperparams['num_epochs']):\n",
        "    train_epoch_loss, train_predictions = train_reg_epoch(\n",
        "        model, \n",
        "        train_dataloader, \n",
        "        loss_crt, \n",
        "        optimizer,\n",
        "        device\n",
        "    )\n",
        "    val_epoch_loss, val_predictions = eval_reg_epoch(\n",
        "        model,\n",
        "        validation_dataloader,\n",
        "        loss_crt,\n",
        "        device\n",
        "    )\n",
        "    lr_scheduler.step()\n",
        "    train_losses.append(train_epoch_loss)\n",
        "    val_losses.append(val_epoch_loss)\n",
        "    print(\"epoch %d, train loss=%f, val loss=%f\" % (\n",
        "        epoch_idx, \n",
        "        train_epoch_loss,\n",
        "        val_epoch_loss\n",
        "    ))\n",
        "\n",
        "    # early stopping\n",
        "    # if val_acc >= best_val_acc:\n",
        "    #     best_val_acc = val_acc\n",
        "    # else:\n",
        "    #     break\n"
      ],
      "metadata": {
        "colab": {
          "base_uri": "https://localhost:8080/"
        },
        "id": "-z6ehuWHc4Sm",
        "outputId": "c6f61d16-71b1-4db2-af70-5c726cc6515f"
      },
      "execution_count": null,
      "outputs": [
        {
          "output_type": "stream",
          "name": "stderr",
          "text": [
            "179it [00:00, 360.92it/s]\n",
            "45it [00:00, 1302.06it/s]\n"
          ]
        },
        {
          "output_type": "stream",
          "name": "stdout",
          "text": [
            "epoch 0, train loss=2011.761782, val loss=93.912464\n"
          ]
        },
        {
          "output_type": "stream",
          "name": "stderr",
          "text": [
            "179it [00:00, 373.38it/s]\n",
            "45it [00:00, 1202.18it/s]\n"
          ]
        },
        {
          "output_type": "stream",
          "name": "stdout",
          "text": [
            "epoch 1, train loss=90.948060, val loss=96.416382\n"
          ]
        },
        {
          "output_type": "stream",
          "name": "stderr",
          "text": [
            "179it [00:00, 380.82it/s]\n",
            "45it [00:00, 1428.53it/s]\n"
          ]
        },
        {
          "output_type": "stream",
          "name": "stdout",
          "text": [
            "epoch 2, train loss=73.835567, val loss=56.741884\n"
          ]
        },
        {
          "output_type": "stream",
          "name": "stderr",
          "text": [
            "179it [00:00, 380.51it/s]\n",
            "45it [00:00, 1090.47it/s]\n"
          ]
        },
        {
          "output_type": "stream",
          "name": "stdout",
          "text": [
            "epoch 3, train loss=64.393192, val loss=59.032762\n"
          ]
        },
        {
          "output_type": "stream",
          "name": "stderr",
          "text": [
            "179it [00:00, 374.64it/s]\n",
            "45it [00:00, 1259.13it/s]\n"
          ]
        },
        {
          "output_type": "stream",
          "name": "stdout",
          "text": [
            "epoch 4, train loss=53.182578, val loss=47.321752\n"
          ]
        },
        {
          "output_type": "stream",
          "name": "stderr",
          "text": [
            "179it [00:00, 367.91it/s]\n",
            "45it [00:00, 1177.90it/s]\n"
          ]
        },
        {
          "output_type": "stream",
          "name": "stdout",
          "text": [
            "epoch 5, train loss=57.699214, val loss=58.198344\n"
          ]
        },
        {
          "output_type": "stream",
          "name": "stderr",
          "text": [
            "179it [00:00, 373.66it/s]\n",
            "45it [00:00, 1369.22it/s]\n"
          ]
        },
        {
          "output_type": "stream",
          "name": "stdout",
          "text": [
            "epoch 6, train loss=56.336040, val loss=49.779255\n"
          ]
        },
        {
          "output_type": "stream",
          "name": "stderr",
          "text": [
            "179it [00:00, 376.93it/s]\n",
            "45it [00:00, 1364.66it/s]\n"
          ]
        },
        {
          "output_type": "stream",
          "name": "stdout",
          "text": [
            "epoch 7, train loss=51.449469, val loss=50.909174\n"
          ]
        },
        {
          "output_type": "stream",
          "name": "stderr",
          "text": [
            "179it [00:00, 370.45it/s]\n",
            "45it [00:00, 1318.41it/s]\n"
          ]
        },
        {
          "output_type": "stream",
          "name": "stdout",
          "text": [
            "epoch 8, train loss=53.933159, val loss=52.439154\n"
          ]
        },
        {
          "output_type": "stream",
          "name": "stderr",
          "text": [
            "179it [00:00, 371.96it/s]\n",
            "45it [00:00, 1208.75it/s]\n"
          ]
        },
        {
          "output_type": "stream",
          "name": "stdout",
          "text": [
            "epoch 9, train loss=54.574336, val loss=57.707949\n"
          ]
        },
        {
          "output_type": "stream",
          "name": "stderr",
          "text": [
            "179it [00:00, 358.27it/s]\n",
            "45it [00:00, 1249.28it/s]\n"
          ]
        },
        {
          "output_type": "stream",
          "name": "stdout",
          "text": [
            "epoch 10, train loss=51.540322, val loss=48.400930\n"
          ]
        },
        {
          "output_type": "stream",
          "name": "stderr",
          "text": [
            "179it [00:00, 375.33it/s]\n",
            "45it [00:00, 1305.76it/s]\n"
          ]
        },
        {
          "output_type": "stream",
          "name": "stdout",
          "text": [
            "epoch 11, train loss=52.509522, val loss=52.559353\n"
          ]
        },
        {
          "output_type": "stream",
          "name": "stderr",
          "text": [
            "179it [00:00, 384.29it/s]\n",
            "45it [00:00, 1357.26it/s]\n"
          ]
        },
        {
          "output_type": "stream",
          "name": "stdout",
          "text": [
            "epoch 12, train loss=52.245008, val loss=52.582071\n"
          ]
        },
        {
          "output_type": "stream",
          "name": "stderr",
          "text": [
            "179it [00:00, 362.93it/s]\n",
            "45it [00:00, 1195.40it/s]\n"
          ]
        },
        {
          "output_type": "stream",
          "name": "stdout",
          "text": [
            "epoch 13, train loss=53.202910, val loss=57.479767\n"
          ]
        },
        {
          "output_type": "stream",
          "name": "stderr",
          "text": [
            "179it [00:00, 361.70it/s]\n",
            "45it [00:00, 1246.99it/s]\n"
          ]
        },
        {
          "output_type": "stream",
          "name": "stdout",
          "text": [
            "epoch 14, train loss=52.273537, val loss=49.304308\n"
          ]
        },
        {
          "output_type": "stream",
          "name": "stderr",
          "text": [
            "179it [00:00, 362.52it/s]\n",
            "45it [00:00, 1162.92it/s]\n"
          ]
        },
        {
          "output_type": "stream",
          "name": "stdout",
          "text": [
            "epoch 15, train loss=52.793155, val loss=48.563579\n"
          ]
        },
        {
          "output_type": "stream",
          "name": "stderr",
          "text": [
            "179it [00:00, 378.20it/s]\n",
            "45it [00:00, 1036.76it/s]\n"
          ]
        },
        {
          "output_type": "stream",
          "name": "stdout",
          "text": [
            "epoch 16, train loss=53.539733, val loss=53.248052\n"
          ]
        },
        {
          "output_type": "stream",
          "name": "stderr",
          "text": [
            "179it [00:00, 360.29it/s]\n",
            "45it [00:00, 1351.01it/s]\n"
          ]
        },
        {
          "output_type": "stream",
          "name": "stdout",
          "text": [
            "epoch 17, train loss=53.955600, val loss=49.269429\n"
          ]
        },
        {
          "output_type": "stream",
          "name": "stderr",
          "text": [
            "179it [00:00, 369.51it/s]\n",
            "45it [00:00, 1428.39it/s]\n"
          ]
        },
        {
          "output_type": "stream",
          "name": "stdout",
          "text": [
            "epoch 18, train loss=53.244970, val loss=50.661041\n"
          ]
        },
        {
          "output_type": "stream",
          "name": "stderr",
          "text": [
            "179it [00:00, 364.93it/s]\n",
            "45it [00:00, 1176.63it/s]\n"
          ]
        },
        {
          "output_type": "stream",
          "name": "stdout",
          "text": [
            "epoch 19, train loss=53.508343, val loss=54.317317\n"
          ]
        },
        {
          "output_type": "stream",
          "name": "stderr",
          "text": [
            "179it [00:00, 375.17it/s]\n",
            "45it [00:00, 1347.81it/s]\n"
          ]
        },
        {
          "output_type": "stream",
          "name": "stdout",
          "text": [
            "epoch 20, train loss=53.288170, val loss=52.516639\n"
          ]
        },
        {
          "output_type": "stream",
          "name": "stderr",
          "text": [
            "179it [00:00, 373.25it/s]\n",
            "45it [00:00, 1293.84it/s]\n"
          ]
        },
        {
          "output_type": "stream",
          "name": "stdout",
          "text": [
            "epoch 21, train loss=53.350632, val loss=50.467065\n"
          ]
        },
        {
          "output_type": "stream",
          "name": "stderr",
          "text": [
            "179it [00:00, 366.25it/s]\n",
            "45it [00:00, 1211.15it/s]\n"
          ]
        },
        {
          "output_type": "stream",
          "name": "stdout",
          "text": [
            "epoch 22, train loss=53.722596, val loss=51.466149\n"
          ]
        },
        {
          "output_type": "stream",
          "name": "stderr",
          "text": [
            "179it [00:00, 371.60it/s]\n",
            "45it [00:00, 1269.10it/s]\n"
          ]
        },
        {
          "output_type": "stream",
          "name": "stdout",
          "text": [
            "epoch 23, train loss=53.827531, val loss=55.081104\n"
          ]
        },
        {
          "output_type": "stream",
          "name": "stderr",
          "text": [
            "179it [00:00, 375.46it/s]\n",
            "45it [00:00, 1240.89it/s]\n"
          ]
        },
        {
          "output_type": "stream",
          "name": "stdout",
          "text": [
            "epoch 24, train loss=52.826109, val loss=49.332635\n"
          ]
        },
        {
          "output_type": "stream",
          "name": "stderr",
          "text": [
            "179it [00:00, 377.04it/s]\n",
            "45it [00:00, 1302.79it/s]\n"
          ]
        },
        {
          "output_type": "stream",
          "name": "stdout",
          "text": [
            "epoch 25, train loss=53.794878, val loss=54.634722\n"
          ]
        },
        {
          "output_type": "stream",
          "name": "stderr",
          "text": [
            "179it [00:00, 363.98it/s]\n",
            "45it [00:00, 1250.39it/s]\n"
          ]
        },
        {
          "output_type": "stream",
          "name": "stdout",
          "text": [
            "epoch 26, train loss=54.437847, val loss=49.811698\n"
          ]
        },
        {
          "output_type": "stream",
          "name": "stderr",
          "text": [
            "179it [00:00, 361.38it/s]\n",
            "45it [00:00, 1317.94it/s]\n"
          ]
        },
        {
          "output_type": "stream",
          "name": "stdout",
          "text": [
            "epoch 27, train loss=54.131339, val loss=49.247928\n"
          ]
        },
        {
          "output_type": "stream",
          "name": "stderr",
          "text": [
            "179it [00:00, 362.91it/s]\n",
            "45it [00:00, 1329.16it/s]\n"
          ]
        },
        {
          "output_type": "stream",
          "name": "stdout",
          "text": [
            "epoch 28, train loss=53.139474, val loss=50.261579\n"
          ]
        },
        {
          "output_type": "stream",
          "name": "stderr",
          "text": [
            "179it [00:00, 371.54it/s]\n",
            "45it [00:00, 1255.13it/s]\n"
          ]
        },
        {
          "output_type": "stream",
          "name": "stdout",
          "text": [
            "epoch 29, train loss=53.467207, val loss=51.448004\n"
          ]
        },
        {
          "output_type": "stream",
          "name": "stderr",
          "text": [
            "179it [00:00, 364.95it/s]\n",
            "45it [00:00, 1213.22it/s]\n"
          ]
        },
        {
          "output_type": "stream",
          "name": "stdout",
          "text": [
            "epoch 30, train loss=52.878256, val loss=49.408929\n"
          ]
        },
        {
          "output_type": "stream",
          "name": "stderr",
          "text": [
            "179it [00:00, 363.67it/s]\n",
            "45it [00:00, 1339.89it/s]\n"
          ]
        },
        {
          "output_type": "stream",
          "name": "stdout",
          "text": [
            "epoch 31, train loss=53.473975, val loss=51.066372\n"
          ]
        },
        {
          "output_type": "stream",
          "name": "stderr",
          "text": [
            "179it [00:00, 364.63it/s]\n",
            "45it [00:00, 1266.52it/s]\n"
          ]
        },
        {
          "output_type": "stream",
          "name": "stdout",
          "text": [
            "epoch 32, train loss=53.950958, val loss=50.935580\n"
          ]
        },
        {
          "output_type": "stream",
          "name": "stderr",
          "text": [
            "179it [00:00, 369.62it/s]\n",
            "45it [00:00, 1140.11it/s]\n"
          ]
        },
        {
          "output_type": "stream",
          "name": "stdout",
          "text": [
            "epoch 33, train loss=52.981229, val loss=49.506139\n"
          ]
        },
        {
          "output_type": "stream",
          "name": "stderr",
          "text": [
            "179it [00:00, 364.04it/s]\n",
            "45it [00:00, 1308.29it/s]\n"
          ]
        },
        {
          "output_type": "stream",
          "name": "stdout",
          "text": [
            "epoch 34, train loss=52.915810, val loss=50.237142\n"
          ]
        },
        {
          "output_type": "stream",
          "name": "stderr",
          "text": [
            "179it [00:00, 362.81it/s]\n",
            "45it [00:00, 1334.77it/s]\n"
          ]
        },
        {
          "output_type": "stream",
          "name": "stdout",
          "text": [
            "epoch 35, train loss=53.846613, val loss=49.430858\n"
          ]
        },
        {
          "output_type": "stream",
          "name": "stderr",
          "text": [
            "179it [00:00, 371.32it/s]\n",
            "45it [00:00, 1216.29it/s]\n"
          ]
        },
        {
          "output_type": "stream",
          "name": "stdout",
          "text": [
            "epoch 36, train loss=53.409312, val loss=50.039614\n"
          ]
        },
        {
          "output_type": "stream",
          "name": "stderr",
          "text": [
            "179it [00:00, 372.71it/s]\n",
            "45it [00:00, 1347.08it/s]\n"
          ]
        },
        {
          "output_type": "stream",
          "name": "stdout",
          "text": [
            "epoch 37, train loss=53.485736, val loss=53.245379\n"
          ]
        },
        {
          "output_type": "stream",
          "name": "stderr",
          "text": [
            "179it [00:00, 375.54it/s]\n",
            "45it [00:00, 1333.21it/s]\n"
          ]
        },
        {
          "output_type": "stream",
          "name": "stdout",
          "text": [
            "epoch 38, train loss=54.258360, val loss=59.591327\n"
          ]
        },
        {
          "output_type": "stream",
          "name": "stderr",
          "text": [
            "179it [00:00, 368.20it/s]\n",
            "45it [00:00, 1258.12it/s]\n"
          ]
        },
        {
          "output_type": "stream",
          "name": "stdout",
          "text": [
            "epoch 39, train loss=54.114785, val loss=50.170325\n"
          ]
        },
        {
          "output_type": "stream",
          "name": "stderr",
          "text": [
            "179it [00:00, 387.39it/s]\n",
            "45it [00:00, 1252.84it/s]\n"
          ]
        },
        {
          "output_type": "stream",
          "name": "stdout",
          "text": [
            "epoch 40, train loss=53.268561, val loss=49.241218\n"
          ]
        },
        {
          "output_type": "stream",
          "name": "stderr",
          "text": [
            "179it [00:00, 383.17it/s]\n",
            "45it [00:00, 1445.49it/s]\n"
          ]
        },
        {
          "output_type": "stream",
          "name": "stdout",
          "text": [
            "epoch 41, train loss=53.199602, val loss=49.239738\n"
          ]
        },
        {
          "output_type": "stream",
          "name": "stderr",
          "text": [
            "179it [00:00, 376.19it/s]\n",
            "45it [00:00, 1113.56it/s]\n"
          ]
        },
        {
          "output_type": "stream",
          "name": "stdout",
          "text": [
            "epoch 42, train loss=52.977551, val loss=49.311620\n"
          ]
        },
        {
          "output_type": "stream",
          "name": "stderr",
          "text": [
            "179it [00:00, 369.41it/s]\n",
            "45it [00:00, 1275.64it/s]\n"
          ]
        },
        {
          "output_type": "stream",
          "name": "stdout",
          "text": [
            "epoch 43, train loss=53.030321, val loss=50.307924\n"
          ]
        },
        {
          "output_type": "stream",
          "name": "stderr",
          "text": [
            "179it [00:00, 372.95it/s]\n",
            "45it [00:00, 1148.18it/s]\n"
          ]
        },
        {
          "output_type": "stream",
          "name": "stdout",
          "text": [
            "epoch 44, train loss=52.710137, val loss=53.664270\n"
          ]
        },
        {
          "output_type": "stream",
          "name": "stderr",
          "text": [
            "179it [00:00, 364.03it/s]\n",
            "45it [00:00, 1240.96it/s]\n"
          ]
        },
        {
          "output_type": "stream",
          "name": "stdout",
          "text": [
            "epoch 45, train loss=54.064448, val loss=49.390834\n"
          ]
        },
        {
          "output_type": "stream",
          "name": "stderr",
          "text": [
            "179it [00:00, 370.63it/s]\n",
            "45it [00:00, 1338.32it/s]\n"
          ]
        },
        {
          "output_type": "stream",
          "name": "stdout",
          "text": [
            "epoch 46, train loss=52.966612, val loss=49.874100\n"
          ]
        },
        {
          "output_type": "stream",
          "name": "stderr",
          "text": [
            "179it [00:00, 371.95it/s]\n",
            "45it [00:00, 1165.37it/s]\n"
          ]
        },
        {
          "output_type": "stream",
          "name": "stdout",
          "text": [
            "epoch 47, train loss=52.938464, val loss=51.011468\n"
          ]
        },
        {
          "output_type": "stream",
          "name": "stderr",
          "text": [
            "179it [00:00, 377.61it/s]\n",
            "45it [00:00, 1372.70it/s]\n"
          ]
        },
        {
          "output_type": "stream",
          "name": "stdout",
          "text": [
            "epoch 48, train loss=52.535412, val loss=50.399792\n"
          ]
        },
        {
          "output_type": "stream",
          "name": "stderr",
          "text": [
            "179it [00:00, 379.46it/s]\n",
            "45it [00:00, 1272.21it/s]\n"
          ]
        },
        {
          "output_type": "stream",
          "name": "stdout",
          "text": [
            "epoch 49, train loss=52.833291, val loss=49.266793\n"
          ]
        },
        {
          "output_type": "stream",
          "name": "stderr",
          "text": [
            "179it [00:00, 372.32it/s]\n",
            "45it [00:00, 1264.47it/s]\n"
          ]
        },
        {
          "output_type": "stream",
          "name": "stdout",
          "text": [
            "epoch 50, train loss=53.436427, val loss=52.145254\n"
          ]
        },
        {
          "output_type": "stream",
          "name": "stderr",
          "text": [
            "179it [00:00, 360.88it/s]\n",
            "45it [00:00, 1183.16it/s]\n"
          ]
        },
        {
          "output_type": "stream",
          "name": "stdout",
          "text": [
            "epoch 51, train loss=53.470754, val loss=49.343275\n"
          ]
        },
        {
          "output_type": "stream",
          "name": "stderr",
          "text": [
            "179it [00:00, 370.58it/s]\n",
            "45it [00:00, 1012.73it/s]\n"
          ]
        },
        {
          "output_type": "stream",
          "name": "stdout",
          "text": [
            "epoch 52, train loss=52.211398, val loss=49.998474\n"
          ]
        },
        {
          "output_type": "stream",
          "name": "stderr",
          "text": [
            "179it [00:00, 367.91it/s]\n",
            "45it [00:00, 1317.70it/s]\n"
          ]
        },
        {
          "output_type": "stream",
          "name": "stdout",
          "text": [
            "epoch 53, train loss=53.341758, val loss=51.015840\n"
          ]
        },
        {
          "output_type": "stream",
          "name": "stderr",
          "text": [
            "179it [00:00, 376.00it/s]\n",
            "45it [00:00, 1323.14it/s]\n"
          ]
        },
        {
          "output_type": "stream",
          "name": "stdout",
          "text": [
            "epoch 54, train loss=53.186881, val loss=50.515197\n"
          ]
        },
        {
          "output_type": "stream",
          "name": "stderr",
          "text": [
            "179it [00:00, 379.68it/s]\n",
            "45it [00:00, 1175.56it/s]\n"
          ]
        },
        {
          "output_type": "stream",
          "name": "stdout",
          "text": [
            "epoch 55, train loss=53.163481, val loss=50.596173\n"
          ]
        },
        {
          "output_type": "stream",
          "name": "stderr",
          "text": [
            "179it [00:00, 374.74it/s]\n",
            "45it [00:00, 1101.32it/s]\n"
          ]
        },
        {
          "output_type": "stream",
          "name": "stdout",
          "text": [
            "epoch 56, train loss=52.876175, val loss=49.450713\n"
          ]
        },
        {
          "output_type": "stream",
          "name": "stderr",
          "text": [
            "179it [00:00, 377.09it/s]\n",
            "45it [00:00, 1307.28it/s]\n"
          ]
        },
        {
          "output_type": "stream",
          "name": "stdout",
          "text": [
            "epoch 57, train loss=52.818526, val loss=54.477481\n"
          ]
        },
        {
          "output_type": "stream",
          "name": "stderr",
          "text": [
            "179it [00:00, 376.79it/s]\n",
            "45it [00:00, 1247.90it/s]\n"
          ]
        },
        {
          "output_type": "stream",
          "name": "stdout",
          "text": [
            "epoch 58, train loss=52.478492, val loss=49.280535\n"
          ]
        },
        {
          "output_type": "stream",
          "name": "stderr",
          "text": [
            "179it [00:00, 366.85it/s]\n",
            "45it [00:00, 1331.83it/s]\n"
          ]
        },
        {
          "output_type": "stream",
          "name": "stdout",
          "text": [
            "epoch 59, train loss=52.613835, val loss=50.272882\n"
          ]
        },
        {
          "output_type": "stream",
          "name": "stderr",
          "text": [
            "179it [00:00, 349.41it/s]\n",
            "45it [00:00, 1138.30it/s]\n"
          ]
        },
        {
          "output_type": "stream",
          "name": "stdout",
          "text": [
            "epoch 60, train loss=51.925476, val loss=49.240763\n"
          ]
        },
        {
          "output_type": "stream",
          "name": "stderr",
          "text": [
            "179it [00:00, 361.26it/s]\n",
            "45it [00:00, 1207.97it/s]\n"
          ]
        },
        {
          "output_type": "stream",
          "name": "stdout",
          "text": [
            "epoch 61, train loss=51.628291, val loss=49.353164\n"
          ]
        },
        {
          "output_type": "stream",
          "name": "stderr",
          "text": [
            "179it [00:00, 362.79it/s]\n",
            "45it [00:00, 1318.84it/s]\n"
          ]
        },
        {
          "output_type": "stream",
          "name": "stdout",
          "text": [
            "epoch 62, train loss=51.807488, val loss=49.350761\n"
          ]
        },
        {
          "output_type": "stream",
          "name": "stderr",
          "text": [
            "179it [00:00, 368.46it/s]\n",
            "45it [00:00, 1199.07it/s]\n"
          ]
        },
        {
          "output_type": "stream",
          "name": "stdout",
          "text": [
            "epoch 63, train loss=51.751993, val loss=49.511437\n"
          ]
        },
        {
          "output_type": "stream",
          "name": "stderr",
          "text": [
            "179it [00:00, 367.18it/s]\n",
            "45it [00:00, 1311.56it/s]\n"
          ]
        },
        {
          "output_type": "stream",
          "name": "stdout",
          "text": [
            "epoch 64, train loss=52.230650, val loss=49.356425\n"
          ]
        },
        {
          "output_type": "stream",
          "name": "stderr",
          "text": [
            "179it [00:00, 361.56it/s]\n",
            "45it [00:00, 1312.84it/s]\n"
          ]
        },
        {
          "output_type": "stream",
          "name": "stdout",
          "text": [
            "epoch 65, train loss=51.968382, val loss=49.388870\n"
          ]
        },
        {
          "output_type": "stream",
          "name": "stderr",
          "text": [
            "179it [00:00, 357.70it/s]\n",
            "45it [00:00, 1223.01it/s]\n"
          ]
        },
        {
          "output_type": "stream",
          "name": "stdout",
          "text": [
            "epoch 66, train loss=51.742849, val loss=49.461163\n"
          ]
        },
        {
          "output_type": "stream",
          "name": "stderr",
          "text": [
            "179it [00:00, 363.49it/s]\n",
            "45it [00:00, 1279.86it/s]\n"
          ]
        },
        {
          "output_type": "stream",
          "name": "stdout",
          "text": [
            "epoch 67, train loss=51.737239, val loss=49.241649\n"
          ]
        },
        {
          "output_type": "stream",
          "name": "stderr",
          "text": [
            "179it [00:00, 361.99it/s]\n",
            "45it [00:00, 1347.48it/s]\n"
          ]
        },
        {
          "output_type": "stream",
          "name": "stdout",
          "text": [
            "epoch 68, train loss=51.706037, val loss=49.337688\n"
          ]
        },
        {
          "output_type": "stream",
          "name": "stderr",
          "text": [
            "179it [00:00, 356.87it/s]\n",
            "45it [00:00, 1315.64it/s]\n"
          ]
        },
        {
          "output_type": "stream",
          "name": "stdout",
          "text": [
            "epoch 69, train loss=51.568539, val loss=49.251760\n"
          ]
        },
        {
          "output_type": "stream",
          "name": "stderr",
          "text": [
            "179it [00:00, 364.44it/s]\n",
            "45it [00:00, 1250.09it/s]\n"
          ]
        },
        {
          "output_type": "stream",
          "name": "stdout",
          "text": [
            "epoch 70, train loss=51.876092, val loss=49.271307\n"
          ]
        },
        {
          "output_type": "stream",
          "name": "stderr",
          "text": [
            "179it [00:00, 363.30it/s]\n",
            "45it [00:00, 1349.41it/s]\n"
          ]
        },
        {
          "output_type": "stream",
          "name": "stdout",
          "text": [
            "epoch 71, train loss=51.851227, val loss=49.242779\n"
          ]
        },
        {
          "output_type": "stream",
          "name": "stderr",
          "text": [
            "179it [00:00, 373.47it/s]\n",
            "45it [00:00, 1294.06it/s]\n"
          ]
        },
        {
          "output_type": "stream",
          "name": "stdout",
          "text": [
            "epoch 72, train loss=51.882078, val loss=49.750664\n"
          ]
        },
        {
          "output_type": "stream",
          "name": "stderr",
          "text": [
            "179it [00:00, 366.48it/s]\n",
            "45it [00:00, 1298.98it/s]\n"
          ]
        },
        {
          "output_type": "stream",
          "name": "stdout",
          "text": [
            "epoch 73, train loss=51.781324, val loss=49.244979\n"
          ]
        },
        {
          "output_type": "stream",
          "name": "stderr",
          "text": [
            "179it [00:00, 366.35it/s]\n",
            "45it [00:00, 1246.01it/s]\n"
          ]
        },
        {
          "output_type": "stream",
          "name": "stdout",
          "text": [
            "epoch 74, train loss=51.679851, val loss=49.867825\n"
          ]
        },
        {
          "output_type": "stream",
          "name": "stderr",
          "text": [
            "179it [00:00, 365.97it/s]\n",
            "45it [00:00, 1340.02it/s]\n"
          ]
        },
        {
          "output_type": "stream",
          "name": "stdout",
          "text": [
            "epoch 75, train loss=51.954201, val loss=49.591015\n"
          ]
        },
        {
          "output_type": "stream",
          "name": "stderr",
          "text": [
            "179it [00:00, 379.16it/s]\n",
            "45it [00:00, 1261.51it/s]\n"
          ]
        },
        {
          "output_type": "stream",
          "name": "stdout",
          "text": [
            "epoch 76, train loss=51.842614, val loss=49.295650\n"
          ]
        },
        {
          "output_type": "stream",
          "name": "stderr",
          "text": [
            "179it [00:00, 356.08it/s]\n",
            "45it [00:00, 1311.20it/s]\n"
          ]
        },
        {
          "output_type": "stream",
          "name": "stdout",
          "text": [
            "epoch 77, train loss=51.794087, val loss=49.301555\n"
          ]
        },
        {
          "output_type": "stream",
          "name": "stderr",
          "text": [
            "179it [00:00, 360.09it/s]\n",
            "45it [00:00, 1251.70it/s]\n"
          ]
        },
        {
          "output_type": "stream",
          "name": "stdout",
          "text": [
            "epoch 78, train loss=51.798565, val loss=49.242225\n"
          ]
        },
        {
          "output_type": "stream",
          "name": "stderr",
          "text": [
            "179it [00:00, 355.33it/s]\n",
            "45it [00:00, 1163.78it/s]\n"
          ]
        },
        {
          "output_type": "stream",
          "name": "stdout",
          "text": [
            "epoch 79, train loss=51.791253, val loss=49.240548\n"
          ]
        },
        {
          "output_type": "stream",
          "name": "stderr",
          "text": [
            "179it [00:00, 347.04it/s]\n",
            "45it [00:00, 1190.32it/s]\n"
          ]
        },
        {
          "output_type": "stream",
          "name": "stdout",
          "text": [
            "epoch 80, train loss=51.621012, val loss=49.697986\n"
          ]
        },
        {
          "output_type": "stream",
          "name": "stderr",
          "text": [
            "179it [00:00, 361.22it/s]\n",
            "45it [00:00, 1311.58it/s]\n"
          ]
        },
        {
          "output_type": "stream",
          "name": "stdout",
          "text": [
            "epoch 81, train loss=51.795067, val loss=49.265345\n"
          ]
        },
        {
          "output_type": "stream",
          "name": "stderr",
          "text": [
            "179it [00:00, 354.46it/s]\n",
            "45it [00:00, 1262.28it/s]\n"
          ]
        },
        {
          "output_type": "stream",
          "name": "stdout",
          "text": [
            "epoch 82, train loss=51.713014, val loss=49.278111\n"
          ]
        },
        {
          "output_type": "stream",
          "name": "stderr",
          "text": [
            "179it [00:00, 360.55it/s]\n",
            "45it [00:00, 1371.42it/s]\n"
          ]
        },
        {
          "output_type": "stream",
          "name": "stdout",
          "text": [
            "epoch 83, train loss=52.093984, val loss=49.307653\n"
          ]
        },
        {
          "output_type": "stream",
          "name": "stderr",
          "text": [
            "179it [00:00, 362.41it/s]\n",
            "45it [00:00, 1211.83it/s]\n"
          ]
        },
        {
          "output_type": "stream",
          "name": "stdout",
          "text": [
            "epoch 84, train loss=51.872513, val loss=49.270913\n"
          ]
        },
        {
          "output_type": "stream",
          "name": "stderr",
          "text": [
            "179it [00:00, 381.59it/s]\n",
            "45it [00:00, 1248.75it/s]\n"
          ]
        },
        {
          "output_type": "stream",
          "name": "stdout",
          "text": [
            "epoch 85, train loss=55.817907, val loss=49.292307\n"
          ]
        },
        {
          "output_type": "stream",
          "name": "stderr",
          "text": [
            "179it [00:00, 375.74it/s]\n",
            "45it [00:00, 1466.61it/s]\n"
          ]
        },
        {
          "output_type": "stream",
          "name": "stdout",
          "text": [
            "epoch 86, train loss=51.905879, val loss=49.645614\n"
          ]
        },
        {
          "output_type": "stream",
          "name": "stderr",
          "text": [
            "179it [00:00, 377.60it/s]\n",
            "45it [00:00, 1140.89it/s]\n"
          ]
        },
        {
          "output_type": "stream",
          "name": "stdout",
          "text": [
            "epoch 87, train loss=51.815789, val loss=49.280627\n"
          ]
        },
        {
          "output_type": "stream",
          "name": "stderr",
          "text": [
            "179it [00:00, 360.80it/s]\n",
            "45it [00:00, 1330.43it/s]\n"
          ]
        },
        {
          "output_type": "stream",
          "name": "stdout",
          "text": [
            "epoch 88, train loss=51.834857, val loss=49.364785\n"
          ]
        },
        {
          "output_type": "stream",
          "name": "stderr",
          "text": [
            "179it [00:00, 385.93it/s]\n",
            "45it [00:00, 1349.62it/s]\n"
          ]
        },
        {
          "output_type": "stream",
          "name": "stdout",
          "text": [
            "epoch 89, train loss=51.846013, val loss=49.273174\n"
          ]
        },
        {
          "output_type": "stream",
          "name": "stderr",
          "text": [
            "179it [00:00, 370.21it/s]\n",
            "45it [00:00, 1004.78it/s]\n"
          ]
        },
        {
          "output_type": "stream",
          "name": "stdout",
          "text": [
            "epoch 90, train loss=51.688518, val loss=49.379755\n"
          ]
        },
        {
          "output_type": "stream",
          "name": "stderr",
          "text": [
            "179it [00:00, 378.91it/s]\n",
            "45it [00:00, 1361.84it/s]\n"
          ]
        },
        {
          "output_type": "stream",
          "name": "stdout",
          "text": [
            "epoch 91, train loss=52.415796, val loss=49.267856\n"
          ]
        },
        {
          "output_type": "stream",
          "name": "stderr",
          "text": [
            "179it [00:00, 371.37it/s]\n",
            "45it [00:00, 1383.74it/s]\n"
          ]
        },
        {
          "output_type": "stream",
          "name": "stdout",
          "text": [
            "epoch 92, train loss=52.021702, val loss=49.363914\n"
          ]
        },
        {
          "output_type": "stream",
          "name": "stderr",
          "text": [
            "179it [00:00, 382.98it/s]\n",
            "45it [00:00, 1214.07it/s]\n"
          ]
        },
        {
          "output_type": "stream",
          "name": "stdout",
          "text": [
            "epoch 93, train loss=51.689801, val loss=49.244444\n"
          ]
        },
        {
          "output_type": "stream",
          "name": "stderr",
          "text": [
            "179it [00:00, 375.36it/s]\n",
            "45it [00:00, 1206.64it/s]\n"
          ]
        },
        {
          "output_type": "stream",
          "name": "stdout",
          "text": [
            "epoch 94, train loss=51.836635, val loss=49.327001\n"
          ]
        },
        {
          "output_type": "stream",
          "name": "stderr",
          "text": [
            "179it [00:00, 360.35it/s]\n",
            "45it [00:00, 1160.23it/s]\n"
          ]
        },
        {
          "output_type": "stream",
          "name": "stdout",
          "text": [
            "epoch 95, train loss=51.868916, val loss=49.240184\n"
          ]
        },
        {
          "output_type": "stream",
          "name": "stderr",
          "text": [
            "179it [00:00, 372.79it/s]\n",
            "45it [00:00, 1245.24it/s]\n"
          ]
        },
        {
          "output_type": "stream",
          "name": "stdout",
          "text": [
            "epoch 96, train loss=51.690486, val loss=49.304082\n"
          ]
        },
        {
          "output_type": "stream",
          "name": "stderr",
          "text": [
            "179it [00:00, 376.26it/s]\n",
            "45it [00:00, 1358.42it/s]\n"
          ]
        },
        {
          "output_type": "stream",
          "name": "stdout",
          "text": [
            "epoch 97, train loss=51.783404, val loss=49.243351\n"
          ]
        },
        {
          "output_type": "stream",
          "name": "stderr",
          "text": [
            "179it [00:00, 372.68it/s]\n",
            "45it [00:00, 1248.87it/s]\n"
          ]
        },
        {
          "output_type": "stream",
          "name": "stdout",
          "text": [
            "epoch 98, train loss=51.822429, val loss=49.341880\n"
          ]
        },
        {
          "output_type": "stream",
          "name": "stderr",
          "text": [
            "179it [00:00, 366.32it/s]\n",
            "45it [00:00, 1310.94it/s]\n"
          ]
        },
        {
          "output_type": "stream",
          "name": "stdout",
          "text": [
            "epoch 99, train loss=52.274243, val loss=49.629898\n"
          ]
        },
        {
          "output_type": "stream",
          "name": "stderr",
          "text": [
            "179it [00:00, 365.37it/s]\n",
            "45it [00:00, 1391.85it/s]\n"
          ]
        },
        {
          "output_type": "stream",
          "name": "stdout",
          "text": [
            "epoch 100, train loss=52.213117, val loss=49.248509\n"
          ]
        },
        {
          "output_type": "stream",
          "name": "stderr",
          "text": [
            "179it [00:00, 356.77it/s]\n",
            "45it [00:00, 1285.94it/s]\n"
          ]
        },
        {
          "output_type": "stream",
          "name": "stdout",
          "text": [
            "epoch 101, train loss=51.774118, val loss=49.258266\n"
          ]
        },
        {
          "output_type": "stream",
          "name": "stderr",
          "text": [
            "179it [00:00, 371.81it/s]\n",
            "45it [00:00, 1352.59it/s]\n"
          ]
        },
        {
          "output_type": "stream",
          "name": "stdout",
          "text": [
            "epoch 102, train loss=51.726423, val loss=49.288108\n"
          ]
        },
        {
          "output_type": "stream",
          "name": "stderr",
          "text": [
            "179it [00:00, 368.52it/s]\n",
            "45it [00:00, 1243.74it/s]\n"
          ]
        },
        {
          "output_type": "stream",
          "name": "stdout",
          "text": [
            "epoch 103, train loss=51.694014, val loss=49.306637\n"
          ]
        },
        {
          "output_type": "stream",
          "name": "stderr",
          "text": [
            "179it [00:00, 360.20it/s]\n",
            "45it [00:00, 1269.96it/s]\n"
          ]
        },
        {
          "output_type": "stream",
          "name": "stdout",
          "text": [
            "epoch 104, train loss=51.922072, val loss=49.281974\n"
          ]
        },
        {
          "output_type": "stream",
          "name": "stderr",
          "text": [
            "179it [00:00, 359.34it/s]\n",
            "45it [00:00, 1369.72it/s]\n"
          ]
        },
        {
          "output_type": "stream",
          "name": "stdout",
          "text": [
            "epoch 105, train loss=51.686669, val loss=49.451353\n"
          ]
        },
        {
          "output_type": "stream",
          "name": "stderr",
          "text": [
            "179it [00:00, 360.98it/s]\n",
            "45it [00:00, 1197.69it/s]\n"
          ]
        },
        {
          "output_type": "stream",
          "name": "stdout",
          "text": [
            "epoch 106, train loss=51.896663, val loss=49.540623\n"
          ]
        },
        {
          "output_type": "stream",
          "name": "stderr",
          "text": [
            "179it [00:00, 353.54it/s]\n",
            "45it [00:00, 1270.30it/s]\n"
          ]
        },
        {
          "output_type": "stream",
          "name": "stdout",
          "text": [
            "epoch 107, train loss=51.859123, val loss=49.271016\n"
          ]
        },
        {
          "output_type": "stream",
          "name": "stderr",
          "text": [
            "179it [00:00, 362.27it/s]\n",
            "45it [00:00, 1163.17it/s]\n"
          ]
        },
        {
          "output_type": "stream",
          "name": "stdout",
          "text": [
            "epoch 108, train loss=51.759174, val loss=49.248367\n"
          ]
        },
        {
          "output_type": "stream",
          "name": "stderr",
          "text": [
            "179it [00:00, 372.39it/s]\n",
            "45it [00:00, 1378.38it/s]\n"
          ]
        },
        {
          "output_type": "stream",
          "name": "stdout",
          "text": [
            "epoch 109, train loss=51.865450, val loss=49.271974\n"
          ]
        },
        {
          "output_type": "stream",
          "name": "stderr",
          "text": [
            "179it [00:00, 357.23it/s]\n",
            "45it [00:00, 1339.61it/s]\n"
          ]
        },
        {
          "output_type": "stream",
          "name": "stdout",
          "text": [
            "epoch 110, train loss=51.794222, val loss=49.559544\n"
          ]
        },
        {
          "output_type": "stream",
          "name": "stderr",
          "text": [
            "179it [00:00, 363.74it/s]\n",
            "45it [00:00, 1275.31it/s]\n"
          ]
        },
        {
          "output_type": "stream",
          "name": "stdout",
          "text": [
            "epoch 111, train loss=51.781201, val loss=49.239862\n"
          ]
        },
        {
          "output_type": "stream",
          "name": "stderr",
          "text": [
            "179it [00:00, 362.91it/s]\n",
            "45it [00:00, 1383.64it/s]\n"
          ]
        },
        {
          "output_type": "stream",
          "name": "stdout",
          "text": [
            "epoch 112, train loss=51.768216, val loss=49.282337\n"
          ]
        },
        {
          "output_type": "stream",
          "name": "stderr",
          "text": [
            "179it [00:00, 368.68it/s]\n",
            "45it [00:00, 1358.64it/s]\n"
          ]
        },
        {
          "output_type": "stream",
          "name": "stdout",
          "text": [
            "epoch 113, train loss=51.863625, val loss=49.372361\n"
          ]
        },
        {
          "output_type": "stream",
          "name": "stderr",
          "text": [
            "179it [00:00, 357.69it/s]\n",
            "45it [00:00, 1324.98it/s]\n"
          ]
        },
        {
          "output_type": "stream",
          "name": "stdout",
          "text": [
            "epoch 114, train loss=51.702969, val loss=49.280883\n"
          ]
        },
        {
          "output_type": "stream",
          "name": "stderr",
          "text": [
            "179it [00:00, 354.34it/s]\n",
            "45it [00:00, 1223.80it/s]\n"
          ]
        },
        {
          "output_type": "stream",
          "name": "stdout",
          "text": [
            "epoch 115, train loss=51.646008, val loss=49.274786\n"
          ]
        },
        {
          "output_type": "stream",
          "name": "stderr",
          "text": [
            "179it [00:00, 368.17it/s]\n",
            "45it [00:00, 1358.86it/s]\n"
          ]
        },
        {
          "output_type": "stream",
          "name": "stdout",
          "text": [
            "epoch 116, train loss=51.941311, val loss=49.333202\n"
          ]
        },
        {
          "output_type": "stream",
          "name": "stderr",
          "text": [
            "179it [00:00, 365.30it/s]\n",
            "45it [00:00, 1098.38it/s]\n"
          ]
        },
        {
          "output_type": "stream",
          "name": "stdout",
          "text": [
            "epoch 117, train loss=51.846603, val loss=49.305924\n"
          ]
        },
        {
          "output_type": "stream",
          "name": "stderr",
          "text": [
            "179it [00:00, 360.43it/s]\n",
            "45it [00:00, 1367.22it/s]\n"
          ]
        },
        {
          "output_type": "stream",
          "name": "stdout",
          "text": [
            "epoch 118, train loss=52.064857, val loss=49.305993\n"
          ]
        },
        {
          "output_type": "stream",
          "name": "stderr",
          "text": [
            "179it [00:00, 360.54it/s]\n",
            "45it [00:00, 1123.44it/s]\n"
          ]
        },
        {
          "output_type": "stream",
          "name": "stdout",
          "text": [
            "epoch 119, train loss=51.900592, val loss=49.630775\n"
          ]
        },
        {
          "output_type": "stream",
          "name": "stderr",
          "text": [
            "179it [00:00, 370.54it/s]\n",
            "45it [00:00, 1322.56it/s]\n"
          ]
        },
        {
          "output_type": "stream",
          "name": "stdout",
          "text": [
            "epoch 120, train loss=51.719138, val loss=49.253035\n"
          ]
        },
        {
          "output_type": "stream",
          "name": "stderr",
          "text": [
            "179it [00:00, 366.14it/s]\n",
            "45it [00:00, 1041.88it/s]\n"
          ]
        },
        {
          "output_type": "stream",
          "name": "stdout",
          "text": [
            "epoch 121, train loss=51.858596, val loss=49.242455\n"
          ]
        },
        {
          "output_type": "stream",
          "name": "stderr",
          "text": [
            "179it [00:00, 362.68it/s]\n",
            "45it [00:00, 1285.36it/s]\n"
          ]
        },
        {
          "output_type": "stream",
          "name": "stdout",
          "text": [
            "epoch 122, train loss=51.533583, val loss=49.239941\n"
          ]
        },
        {
          "output_type": "stream",
          "name": "stderr",
          "text": [
            "179it [00:00, 352.53it/s]\n",
            "45it [00:00, 1307.07it/s]\n"
          ]
        },
        {
          "output_type": "stream",
          "name": "stdout",
          "text": [
            "epoch 123, train loss=51.641570, val loss=49.240954\n"
          ]
        },
        {
          "output_type": "stream",
          "name": "stderr",
          "text": [
            "179it [00:00, 362.02it/s]\n",
            "45it [00:00, 1284.75it/s]\n"
          ]
        },
        {
          "output_type": "stream",
          "name": "stdout",
          "text": [
            "epoch 124, train loss=51.570051, val loss=49.239816\n"
          ]
        },
        {
          "output_type": "stream",
          "name": "stderr",
          "text": [
            "179it [00:00, 359.55it/s]\n",
            "45it [00:00, 1295.95it/s]\n"
          ]
        },
        {
          "output_type": "stream",
          "name": "stdout",
          "text": [
            "epoch 125, train loss=51.791642, val loss=49.239868\n"
          ]
        },
        {
          "output_type": "stream",
          "name": "stderr",
          "text": [
            "179it [00:00, 360.17it/s]\n",
            "45it [00:00, 1295.95it/s]\n"
          ]
        },
        {
          "output_type": "stream",
          "name": "stdout",
          "text": [
            "epoch 126, train loss=51.681883, val loss=49.240668\n"
          ]
        },
        {
          "output_type": "stream",
          "name": "stderr",
          "text": [
            "179it [00:00, 359.70it/s]\n",
            "45it [00:00, 1196.49it/s]\n"
          ]
        },
        {
          "output_type": "stream",
          "name": "stdout",
          "text": [
            "epoch 127, train loss=51.618477, val loss=49.241801\n"
          ]
        },
        {
          "output_type": "stream",
          "name": "stderr",
          "text": [
            "179it [00:00, 362.47it/s]\n",
            "45it [00:00, 1229.22it/s]\n"
          ]
        },
        {
          "output_type": "stream",
          "name": "stdout",
          "text": [
            "epoch 128, train loss=51.698994, val loss=49.241571\n"
          ]
        },
        {
          "output_type": "stream",
          "name": "stderr",
          "text": [
            "179it [00:00, 370.88it/s]\n",
            "45it [00:00, 1177.76it/s]\n"
          ]
        },
        {
          "output_type": "stream",
          "name": "stdout",
          "text": [
            "epoch 129, train loss=52.584551, val loss=49.239708\n"
          ]
        },
        {
          "output_type": "stream",
          "name": "stderr",
          "text": [
            "179it [00:00, 381.30it/s]\n",
            "45it [00:00, 1344.02it/s]\n"
          ]
        },
        {
          "output_type": "stream",
          "name": "stdout",
          "text": [
            "epoch 130, train loss=51.574340, val loss=49.240582\n"
          ]
        },
        {
          "output_type": "stream",
          "name": "stderr",
          "text": [
            "179it [00:00, 367.35it/s]\n",
            "45it [00:00, 1344.55it/s]\n"
          ]
        },
        {
          "output_type": "stream",
          "name": "stdout",
          "text": [
            "epoch 131, train loss=51.778808, val loss=49.239835\n"
          ]
        },
        {
          "output_type": "stream",
          "name": "stderr",
          "text": [
            "179it [00:00, 374.91it/s]\n",
            "45it [00:00, 983.48it/s]\n"
          ]
        },
        {
          "output_type": "stream",
          "name": "stdout",
          "text": [
            "epoch 132, train loss=51.591348, val loss=49.240237\n"
          ]
        },
        {
          "output_type": "stream",
          "name": "stderr",
          "text": [
            "179it [00:00, 358.77it/s]\n",
            "45it [00:00, 1284.56it/s]\n"
          ]
        },
        {
          "output_type": "stream",
          "name": "stdout",
          "text": [
            "epoch 133, train loss=51.896209, val loss=49.240998\n"
          ]
        },
        {
          "output_type": "stream",
          "name": "stderr",
          "text": [
            "179it [00:00, 363.51it/s]\n",
            "45it [00:00, 1381.20it/s]\n"
          ]
        },
        {
          "output_type": "stream",
          "name": "stdout",
          "text": [
            "epoch 134, train loss=51.630499, val loss=49.239723\n"
          ]
        },
        {
          "output_type": "stream",
          "name": "stderr",
          "text": [
            "179it [00:00, 379.00it/s]\n",
            "45it [00:00, 1334.88it/s]\n"
          ]
        },
        {
          "output_type": "stream",
          "name": "stdout",
          "text": [
            "epoch 135, train loss=51.750385, val loss=49.241301\n"
          ]
        },
        {
          "output_type": "stream",
          "name": "stderr",
          "text": [
            "179it [00:00, 364.40it/s]\n",
            "45it [00:00, 1309.29it/s]\n"
          ]
        },
        {
          "output_type": "stream",
          "name": "stdout",
          "text": [
            "epoch 136, train loss=51.666995, val loss=49.240462\n"
          ]
        },
        {
          "output_type": "stream",
          "name": "stderr",
          "text": [
            "179it [00:00, 377.74it/s]\n",
            "45it [00:00, 1375.68it/s]\n"
          ]
        },
        {
          "output_type": "stream",
          "name": "stdout",
          "text": [
            "epoch 137, train loss=51.564705, val loss=49.239727\n"
          ]
        },
        {
          "output_type": "stream",
          "name": "stderr",
          "text": [
            "179it [00:00, 366.79it/s]\n",
            "45it [00:00, 1332.61it/s]\n"
          ]
        },
        {
          "output_type": "stream",
          "name": "stdout",
          "text": [
            "epoch 138, train loss=51.585339, val loss=49.240391\n"
          ]
        },
        {
          "output_type": "stream",
          "name": "stderr",
          "text": [
            "179it [00:00, 372.05it/s]\n",
            "45it [00:00, 1245.87it/s]\n"
          ]
        },
        {
          "output_type": "stream",
          "name": "stdout",
          "text": [
            "epoch 139, train loss=51.539638, val loss=49.241471\n"
          ]
        },
        {
          "output_type": "stream",
          "name": "stderr",
          "text": [
            "179it [00:00, 371.56it/s]\n",
            "45it [00:00, 1162.04it/s]\n"
          ]
        },
        {
          "output_type": "stream",
          "name": "stdout",
          "text": [
            "epoch 140, train loss=51.560704, val loss=49.246563\n"
          ]
        },
        {
          "output_type": "stream",
          "name": "stderr",
          "text": [
            "179it [00:00, 375.99it/s]\n",
            "45it [00:00, 1291.66it/s]\n"
          ]
        },
        {
          "output_type": "stream",
          "name": "stdout",
          "text": [
            "epoch 141, train loss=51.628990, val loss=49.239864\n"
          ]
        },
        {
          "output_type": "stream",
          "name": "stderr",
          "text": [
            "179it [00:00, 359.44it/s]\n",
            "45it [00:00, 1110.30it/s]\n"
          ]
        },
        {
          "output_type": "stream",
          "name": "stdout",
          "text": [
            "epoch 142, train loss=51.677658, val loss=49.239917\n"
          ]
        },
        {
          "output_type": "stream",
          "name": "stderr",
          "text": [
            "179it [00:00, 371.30it/s]\n",
            "45it [00:00, 1138.10it/s]\n"
          ]
        },
        {
          "output_type": "stream",
          "name": "stdout",
          "text": [
            "epoch 143, train loss=51.732556, val loss=49.239800\n"
          ]
        },
        {
          "output_type": "stream",
          "name": "stderr",
          "text": [
            "179it [00:00, 372.56it/s]\n",
            "45it [00:00, 1309.68it/s]\n"
          ]
        },
        {
          "output_type": "stream",
          "name": "stdout",
          "text": [
            "epoch 144, train loss=51.673429, val loss=49.239794\n"
          ]
        },
        {
          "output_type": "stream",
          "name": "stderr",
          "text": [
            "179it [00:00, 378.67it/s]\n",
            "45it [00:00, 1449.08it/s]\n"
          ]
        },
        {
          "output_type": "stream",
          "name": "stdout",
          "text": [
            "epoch 145, train loss=51.793975, val loss=49.239894\n"
          ]
        },
        {
          "output_type": "stream",
          "name": "stderr",
          "text": [
            "179it [00:00, 370.74it/s]\n",
            "45it [00:00, 1492.74it/s]\n"
          ]
        },
        {
          "output_type": "stream",
          "name": "stdout",
          "text": [
            "epoch 146, train loss=51.681394, val loss=49.240575\n"
          ]
        },
        {
          "output_type": "stream",
          "name": "stderr",
          "text": [
            "179it [00:00, 371.65it/s]\n",
            "45it [00:00, 1424.66it/s]\n"
          ]
        },
        {
          "output_type": "stream",
          "name": "stdout",
          "text": [
            "epoch 147, train loss=51.563389, val loss=49.255196\n"
          ]
        },
        {
          "output_type": "stream",
          "name": "stderr",
          "text": [
            "179it [00:00, 371.68it/s]\n",
            "45it [00:00, 1357.20it/s]\n"
          ]
        },
        {
          "output_type": "stream",
          "name": "stdout",
          "text": [
            "epoch 148, train loss=51.960881, val loss=49.240727\n"
          ]
        },
        {
          "output_type": "stream",
          "name": "stderr",
          "text": [
            "179it [00:00, 375.11it/s]\n",
            "45it [00:00, 1080.25it/s]\n"
          ]
        },
        {
          "output_type": "stream",
          "name": "stdout",
          "text": [
            "epoch 149, train loss=51.592505, val loss=49.239735\n"
          ]
        },
        {
          "output_type": "stream",
          "name": "stderr",
          "text": [
            "179it [00:00, 368.44it/s]\n",
            "45it [00:00, 1314.34it/s]\n"
          ]
        },
        {
          "output_type": "stream",
          "name": "stdout",
          "text": [
            "epoch 150, train loss=51.531432, val loss=49.243964\n"
          ]
        },
        {
          "output_type": "stream",
          "name": "stderr",
          "text": [
            "179it [00:00, 355.84it/s]\n",
            "45it [00:00, 1328.26it/s]\n"
          ]
        },
        {
          "output_type": "stream",
          "name": "stdout",
          "text": [
            "epoch 151, train loss=51.533998, val loss=49.240487\n"
          ]
        },
        {
          "output_type": "stream",
          "name": "stderr",
          "text": [
            "179it [00:00, 353.42it/s]\n",
            "45it [00:00, 1312.78it/s]\n"
          ]
        },
        {
          "output_type": "stream",
          "name": "stdout",
          "text": [
            "epoch 152, train loss=51.635006, val loss=49.240651\n"
          ]
        },
        {
          "output_type": "stream",
          "name": "stderr",
          "text": [
            "179it [00:00, 361.94it/s]\n",
            "45it [00:00, 1270.51it/s]\n"
          ]
        },
        {
          "output_type": "stream",
          "name": "stdout",
          "text": [
            "epoch 153, train loss=51.618878, val loss=49.244462\n"
          ]
        },
        {
          "output_type": "stream",
          "name": "stderr",
          "text": [
            "179it [00:00, 359.88it/s]\n",
            "45it [00:00, 1265.85it/s]\n"
          ]
        },
        {
          "output_type": "stream",
          "name": "stdout",
          "text": [
            "epoch 154, train loss=51.698877, val loss=49.240904\n"
          ]
        },
        {
          "output_type": "stream",
          "name": "stderr",
          "text": [
            "179it [00:00, 353.97it/s]\n",
            "45it [00:00, 1132.49it/s]\n"
          ]
        },
        {
          "output_type": "stream",
          "name": "stdout",
          "text": [
            "epoch 155, train loss=51.662473, val loss=49.239760\n"
          ]
        },
        {
          "output_type": "stream",
          "name": "stderr",
          "text": [
            "179it [00:00, 361.31it/s]\n",
            "45it [00:00, 1180.53it/s]\n"
          ]
        },
        {
          "output_type": "stream",
          "name": "stdout",
          "text": [
            "epoch 156, train loss=51.616018, val loss=49.239708\n"
          ]
        },
        {
          "output_type": "stream",
          "name": "stderr",
          "text": [
            "179it [00:00, 353.74it/s]\n",
            "45it [00:00, 1018.57it/s]\n"
          ]
        },
        {
          "output_type": "stream",
          "name": "stdout",
          "text": [
            "epoch 157, train loss=51.707026, val loss=49.239929\n"
          ]
        },
        {
          "output_type": "stream",
          "name": "stderr",
          "text": [
            "179it [00:00, 365.95it/s]\n",
            "45it [00:00, 1345.22it/s]\n"
          ]
        },
        {
          "output_type": "stream",
          "name": "stdout",
          "text": [
            "epoch 158, train loss=51.589221, val loss=49.240623\n"
          ]
        },
        {
          "output_type": "stream",
          "name": "stderr",
          "text": [
            "179it [00:00, 357.45it/s]\n",
            "45it [00:00, 1356.44it/s]\n"
          ]
        },
        {
          "output_type": "stream",
          "name": "stdout",
          "text": [
            "epoch 159, train loss=51.789451, val loss=49.241654\n"
          ]
        },
        {
          "output_type": "stream",
          "name": "stderr",
          "text": [
            "179it [00:00, 350.84it/s]\n",
            "45it [00:00, 1374.70it/s]\n"
          ]
        },
        {
          "output_type": "stream",
          "name": "stdout",
          "text": [
            "epoch 160, train loss=51.849714, val loss=49.239772\n"
          ]
        },
        {
          "output_type": "stream",
          "name": "stderr",
          "text": [
            "179it [00:00, 355.81it/s]\n",
            "45it [00:00, 1366.81it/s]\n"
          ]
        },
        {
          "output_type": "stream",
          "name": "stdout",
          "text": [
            "epoch 161, train loss=51.782146, val loss=49.240024\n"
          ]
        },
        {
          "output_type": "stream",
          "name": "stderr",
          "text": [
            "179it [00:00, 365.64it/s]\n",
            "45it [00:00, 1150.34it/s]\n"
          ]
        },
        {
          "output_type": "stream",
          "name": "stdout",
          "text": [
            "epoch 162, train loss=51.580572, val loss=49.239899\n"
          ]
        },
        {
          "output_type": "stream",
          "name": "stderr",
          "text": [
            "179it [00:00, 358.03it/s]\n",
            "45it [00:00, 1115.71it/s]\n"
          ]
        },
        {
          "output_type": "stream",
          "name": "stdout",
          "text": [
            "epoch 163, train loss=51.665811, val loss=49.241708\n"
          ]
        },
        {
          "output_type": "stream",
          "name": "stderr",
          "text": [
            "179it [00:00, 355.67it/s]\n",
            "45it [00:00, 1263.31it/s]\n"
          ]
        },
        {
          "output_type": "stream",
          "name": "stdout",
          "text": [
            "epoch 164, train loss=51.665272, val loss=49.239881\n"
          ]
        },
        {
          "output_type": "stream",
          "name": "stderr",
          "text": [
            "179it [00:00, 371.49it/s]\n",
            "45it [00:00, 1296.48it/s]\n"
          ]
        },
        {
          "output_type": "stream",
          "name": "stdout",
          "text": [
            "epoch 165, train loss=51.666601, val loss=49.240077\n"
          ]
        },
        {
          "output_type": "stream",
          "name": "stderr",
          "text": [
            "179it [00:00, 361.08it/s]\n",
            "45it [00:00, 1432.94it/s]\n"
          ]
        },
        {
          "output_type": "stream",
          "name": "stdout",
          "text": [
            "epoch 166, train loss=51.878458, val loss=49.243118\n"
          ]
        },
        {
          "output_type": "stream",
          "name": "stderr",
          "text": [
            "179it [00:00, 366.62it/s]\n",
            "45it [00:00, 1316.42it/s]\n"
          ]
        },
        {
          "output_type": "stream",
          "name": "stdout",
          "text": [
            "epoch 167, train loss=51.877573, val loss=49.240865\n"
          ]
        },
        {
          "output_type": "stream",
          "name": "stderr",
          "text": [
            "179it [00:00, 357.20it/s]\n",
            "45it [00:00, 1429.43it/s]\n"
          ]
        },
        {
          "output_type": "stream",
          "name": "stdout",
          "text": [
            "epoch 168, train loss=51.874811, val loss=49.240701\n"
          ]
        },
        {
          "output_type": "stream",
          "name": "stderr",
          "text": [
            "179it [00:00, 353.44it/s]\n",
            "45it [00:00, 1252.92it/s]\n"
          ]
        },
        {
          "output_type": "stream",
          "name": "stdout",
          "text": [
            "epoch 169, train loss=52.145540, val loss=49.242923\n"
          ]
        },
        {
          "output_type": "stream",
          "name": "stderr",
          "text": [
            "179it [00:00, 357.64it/s]\n",
            "45it [00:00, 1283.58it/s]\n"
          ]
        },
        {
          "output_type": "stream",
          "name": "stdout",
          "text": [
            "epoch 170, train loss=51.591391, val loss=49.239862\n"
          ]
        },
        {
          "output_type": "stream",
          "name": "stderr",
          "text": [
            "179it [00:00, 350.81it/s]\n",
            "45it [00:00, 1349.56it/s]\n"
          ]
        },
        {
          "output_type": "stream",
          "name": "stdout",
          "text": [
            "epoch 171, train loss=51.663033, val loss=49.247459\n"
          ]
        },
        {
          "output_type": "stream",
          "name": "stderr",
          "text": [
            "179it [00:00, 362.22it/s]\n",
            "45it [00:00, 1352.16it/s]\n"
          ]
        },
        {
          "output_type": "stream",
          "name": "stdout",
          "text": [
            "epoch 172, train loss=51.644207, val loss=49.249835\n"
          ]
        },
        {
          "output_type": "stream",
          "name": "stderr",
          "text": [
            "\r0it [00:00, ?it/s]"
          ]
        }
      ]
    },
    {
      "cell_type": "code",
      "source": [
        "%matplotlib inline\n",
        "NUM_EPOCHS=hyperparams['num_epochs']\n",
        "plt.plot(range(0,len(train_losses)), train_losses, 'g', label='Training loss')\n",
        "plt.plot(range(0,len(train_losses)), val_losses, 'b', label='Validation loss')\n",
        "plt.title('Training and Validation loss')\n",
        "plt.xlabel('Epochs')\n",
        "plt.ylabel('Loss')\n",
        "plt.legend()\n",
        "plt.show()"
      ],
      "metadata": {
        "colab": {
          "base_uri": "https://localhost:8080/",
          "height": 295
        },
        "id": "rpY3chh-dTWm",
        "outputId": "70cd8938-b995-4fe4-9e46-7ceb4dc7e864"
      },
      "execution_count": 38,
      "outputs": [
        {
          "output_type": "display_data",
          "data": {
            "text/plain": [
              "<Figure size 432x288 with 1 Axes>"
            ],
            "image/png": "[encoded data removed]"
          },
          "metadata": {
            "needs_background": "light"
          }
        }
      ]
    },
    {
      "cell_type": "code",
      "source": [
        ""
      ],
      "metadata": {
        "id": "dHNTsOUFsPZt"
      },
      "execution_count": null,
      "outputs": []
    }
  ]
}